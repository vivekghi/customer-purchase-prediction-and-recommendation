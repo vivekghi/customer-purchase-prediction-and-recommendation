{
 "cells": [
  {
   "cell_type": "markdown",
   "metadata": {},
   "source": [
    "# Train and Test Model for predicting customer who are likely to purchase in next 7 days\n",
    "### Here we are using data from kaggle. The data belongs to retail company h&m\n",
    "\n",
    "### We have following data\n",
    "### transactions data - this contains the transaction details wth customer and product id along with toal price of sale\n",
    "### customers data - this contains customer details with membership status, age etc\n",
    "### items data - this contains item metadata with product group, description etc\n",
    "\n",
    "### The idea is to use the transactions, customer and item data to predict if a customer is likely to purchase in next 7 days and then recommend top 12 items for the user\n",
    "\n",
    "## Approach\n",
    "### We will divide this problem in 2 parts . Part-1 Predict if a customer is likely to purchase in next 7 days. We will make this a classification problem. Part #2 - Using list pf popular items identified we will predict the score for each item for the customer. Higher the score higher the rank of the product for the customer. The caller application can use this data to pick top 12 items as customer;s recommendation\n",
    "\n",
    "### We will use the transactions data to claculate customer characteristics like Recency, Frequency and Money spent on purchases. We will formulate a RFM score with these data for each of the customer in transaction data\n",
    "### We will use days spent between last 3 transactions to determine the next transaction date\n",
    "### So only those customers will be considered who have made atleast 4 purchases\n",
    "### the time gap for latest transaction of the customer  will be considered as label in our training and testing data. \n",
    "### The customer metadata like age, membership status, customer status etc will be added to the training and testing data along with days between transaction\n",
    "### The label will be classification lable. For next transaction day less equals to 7 days will be considered as 1 while anyting greater than 7 days will be considered as 0\n",
    "### this makes this problem a classification problem\n",
    "### We will attempt to use multiple algorithms like XGBoost, RandomForest classification and deep learning based model"
   ]
  },
  {
   "cell_type": "code",
   "execution_count": 2,
   "metadata": {},
   "outputs": [],
   "source": [
    "import pandas as pd\n",
    "import sagemaker\n",
    "from sklearn.cluster import KMeans"
   ]
  },
  {
   "cell_type": "code",
   "execution_count": 3,
   "metadata": {},
   "outputs": [
    {
     "data": {
      "text/plain": [
       "'sagemaker-ap-south-1-659144925604'"
      ]
     },
     "execution_count": 3,
     "metadata": {},
     "output_type": "execute_result"
    }
   ],
   "source": [
    "sess = sagemaker.Session()\n",
    "region = sess.boto_region_name\n",
    "bucket = sess.default_bucket()\n",
    "bucket"
   ]
  },
  {
   "cell_type": "markdown",
   "metadata": {},
   "source": [
    "### Data is stored in S3 bucket and read here"
   ]
  },
  {
   "cell_type": "code",
   "execution_count": 4,
   "metadata": {},
   "outputs": [],
   "source": [
    "folder='kaggle'\n",
    "data_key = 'transactions_train.csv'\n",
    "data_location = 's3://{}/{}/{}'.format(bucket, folder,data_key)\n",
    "pd.set_option('max_colwidth', 100)  # default is 50\n",
    "df = pd.read_csv(data_location)\n",
    "pd.set_option('max_colwidth', 100)  # default is 50\n",
    "# #df = pd.read_csv(\"fm_preprocessed.csv\")\n",
    "# df[\"detail_desc\"].fillna(\"\", inplace=True)\n",
    "\n",
    "# # The list of top customers (customers with the most product reviews).\n",
    "# df.groupby(\"customer_id\").count()[\"article_id\"].sort_values(ascending=False).head(30)"
   ]
  },
  {
   "cell_type": "markdown",
   "metadata": {},
   "source": [
    "### Lets see the preview of the data"
   ]
  },
  {
   "cell_type": "code",
   "execution_count": 5,
   "metadata": {},
   "outputs": [
    {
     "data": {
      "text/html": [
       "<div>\n",
       "<style scoped>\n",
       "    .dataframe tbody tr th:only-of-type {\n",
       "        vertical-align: middle;\n",
       "    }\n",
       "\n",
       "    .dataframe tbody tr th {\n",
       "        vertical-align: top;\n",
       "    }\n",
       "\n",
       "    .dataframe thead th {\n",
       "        text-align: right;\n",
       "    }\n",
       "</style>\n",
       "<table border=\"1\" class=\"dataframe\">\n",
       "  <thead>\n",
       "    <tr style=\"text-align: right;\">\n",
       "      <th></th>\n",
       "      <th>t_dat</th>\n",
       "      <th>customer_id</th>\n",
       "      <th>article_id</th>\n",
       "      <th>price</th>\n",
       "      <th>sales_channel_id</th>\n",
       "    </tr>\n",
       "  </thead>\n",
       "  <tbody>\n",
       "    <tr>\n",
       "      <th>0</th>\n",
       "      <td>2018-09-20</td>\n",
       "      <td>000058a12d5b43e67d225668fa1f8d618c13dc232df0cad8ffe7ad4a1091e318</td>\n",
       "      <td>663713001</td>\n",
       "      <td>0.050831</td>\n",
       "      <td>2</td>\n",
       "    </tr>\n",
       "    <tr>\n",
       "      <th>1</th>\n",
       "      <td>2018-09-20</td>\n",
       "      <td>000058a12d5b43e67d225668fa1f8d618c13dc232df0cad8ffe7ad4a1091e318</td>\n",
       "      <td>541518023</td>\n",
       "      <td>0.030492</td>\n",
       "      <td>2</td>\n",
       "    </tr>\n",
       "    <tr>\n",
       "      <th>2</th>\n",
       "      <td>2018-09-20</td>\n",
       "      <td>00007d2de826758b65a93dd24ce629ed66842531df6699338c5570910a014cc2</td>\n",
       "      <td>505221004</td>\n",
       "      <td>0.015237</td>\n",
       "      <td>2</td>\n",
       "    </tr>\n",
       "    <tr>\n",
       "      <th>3</th>\n",
       "      <td>2018-09-20</td>\n",
       "      <td>00007d2de826758b65a93dd24ce629ed66842531df6699338c5570910a014cc2</td>\n",
       "      <td>685687003</td>\n",
       "      <td>0.016932</td>\n",
       "      <td>2</td>\n",
       "    </tr>\n",
       "    <tr>\n",
       "      <th>4</th>\n",
       "      <td>2018-09-20</td>\n",
       "      <td>00007d2de826758b65a93dd24ce629ed66842531df6699338c5570910a014cc2</td>\n",
       "      <td>685687004</td>\n",
       "      <td>0.016932</td>\n",
       "      <td>2</td>\n",
       "    </tr>\n",
       "    <tr>\n",
       "      <th>...</th>\n",
       "      <td>...</td>\n",
       "      <td>...</td>\n",
       "      <td>...</td>\n",
       "      <td>...</td>\n",
       "      <td>...</td>\n",
       "    </tr>\n",
       "    <tr>\n",
       "      <th>31788319</th>\n",
       "      <td>2020-09-22</td>\n",
       "      <td>fff2282977442e327b45d8c89afde25617d00124d0f99982410630ac51314356</td>\n",
       "      <td>929511001</td>\n",
       "      <td>0.059305</td>\n",
       "      <td>2</td>\n",
       "    </tr>\n",
       "    <tr>\n",
       "      <th>31788320</th>\n",
       "      <td>2020-09-22</td>\n",
       "      <td>fff2282977442e327b45d8c89afde25617d00124d0f99982410630ac51314356</td>\n",
       "      <td>891322004</td>\n",
       "      <td>0.042356</td>\n",
       "      <td>2</td>\n",
       "    </tr>\n",
       "    <tr>\n",
       "      <th>31788321</th>\n",
       "      <td>2020-09-22</td>\n",
       "      <td>fff380805474b287b05cb2a7507b9a013482f7dd0bce0e6936f26ea7ecaa68a1</td>\n",
       "      <td>918325001</td>\n",
       "      <td>0.043203</td>\n",
       "      <td>1</td>\n",
       "    </tr>\n",
       "    <tr>\n",
       "      <th>31788322</th>\n",
       "      <td>2020-09-22</td>\n",
       "      <td>fff4d3a8b1f3b60af93e78c30a7cb4cf75edaf2590d3e593881ae6007d775f0f</td>\n",
       "      <td>833459002</td>\n",
       "      <td>0.006763</td>\n",
       "      <td>1</td>\n",
       "    </tr>\n",
       "    <tr>\n",
       "      <th>31788323</th>\n",
       "      <td>2020-09-22</td>\n",
       "      <td>fffef3b6b73545df065b521e19f64bf6fe93bfd450ab20e02ce5d1e58a8f700b</td>\n",
       "      <td>898573003</td>\n",
       "      <td>0.033881</td>\n",
       "      <td>2</td>\n",
       "    </tr>\n",
       "  </tbody>\n",
       "</table>\n",
       "<p>31788324 rows × 5 columns</p>\n",
       "</div>"
      ],
      "text/plain": [
       "               t_dat  \\\n",
       "0         2018-09-20   \n",
       "1         2018-09-20   \n",
       "2         2018-09-20   \n",
       "3         2018-09-20   \n",
       "4         2018-09-20   \n",
       "...              ...   \n",
       "31788319  2020-09-22   \n",
       "31788320  2020-09-22   \n",
       "31788321  2020-09-22   \n",
       "31788322  2020-09-22   \n",
       "31788323  2020-09-22   \n",
       "\n",
       "                                                               customer_id  \\\n",
       "0         000058a12d5b43e67d225668fa1f8d618c13dc232df0cad8ffe7ad4a1091e318   \n",
       "1         000058a12d5b43e67d225668fa1f8d618c13dc232df0cad8ffe7ad4a1091e318   \n",
       "2         00007d2de826758b65a93dd24ce629ed66842531df6699338c5570910a014cc2   \n",
       "3         00007d2de826758b65a93dd24ce629ed66842531df6699338c5570910a014cc2   \n",
       "4         00007d2de826758b65a93dd24ce629ed66842531df6699338c5570910a014cc2   \n",
       "...                                                                    ...   \n",
       "31788319  fff2282977442e327b45d8c89afde25617d00124d0f99982410630ac51314356   \n",
       "31788320  fff2282977442e327b45d8c89afde25617d00124d0f99982410630ac51314356   \n",
       "31788321  fff380805474b287b05cb2a7507b9a013482f7dd0bce0e6936f26ea7ecaa68a1   \n",
       "31788322  fff4d3a8b1f3b60af93e78c30a7cb4cf75edaf2590d3e593881ae6007d775f0f   \n",
       "31788323  fffef3b6b73545df065b521e19f64bf6fe93bfd450ab20e02ce5d1e58a8f700b   \n",
       "\n",
       "          article_id     price  sales_channel_id  \n",
       "0          663713001  0.050831                 2  \n",
       "1          541518023  0.030492                 2  \n",
       "2          505221004  0.015237                 2  \n",
       "3          685687003  0.016932                 2  \n",
       "4          685687004  0.016932                 2  \n",
       "...              ...       ...               ...  \n",
       "31788319   929511001  0.059305                 2  \n",
       "31788320   891322004  0.042356                 2  \n",
       "31788321   918325001  0.043203                 1  \n",
       "31788322   833459002  0.006763                 1  \n",
       "31788323   898573003  0.033881                 2  \n",
       "\n",
       "[31788324 rows x 5 columns]"
      ]
     },
     "execution_count": 5,
     "metadata": {},
     "output_type": "execute_result"
    }
   ],
   "source": [
    "tx_data=df\n",
    "tx_data\n"
   ]
  },
  {
   "cell_type": "markdown",
   "metadata": {},
   "source": [
    "### Following are the details of the transaction data\n",
    "- t_dat - Transaction date\n",
    "- customer_id - Encoded customer unique id\n",
    "- article_id - Unique product ID\n",
    "- price - Dollar retail price for the item\n",
    "- sales_channel_id - Wich channel was used for the purchase"
   ]
  },
  {
   "cell_type": "code",
   "execution_count": 6,
   "metadata": {},
   "outputs": [
    {
     "data": {
      "text/plain": [
       "(31788324, 5)"
      ]
     },
     "execution_count": 6,
     "metadata": {},
     "output_type": "execute_result"
    }
   ],
   "source": [
    "tx_data.shape"
   ]
  },
  {
   "cell_type": "code",
   "execution_count": 7,
   "metadata": {},
   "outputs": [
    {
     "data": {
      "text/plain": [
       "Index(['t_dat', 'customer_id', 'article_id', 'price', 'sales_channel_id'], dtype='object')"
      ]
     },
     "execution_count": 7,
     "metadata": {},
     "output_type": "execute_result"
    }
   ],
   "source": [
    "tx_data.columns"
   ]
  },
  {
   "cell_type": "code",
   "execution_count": 8,
   "metadata": {},
   "outputs": [
    {
     "name": "stdout",
     "output_type": "stream",
     "text": [
      "Unique customers  =  1362281\n",
      "Unique Products =  104547\n"
     ]
    }
   ],
   "source": [
    "print(\"Unique customers  = \",tx_data.customer_id.unique().size)\n",
    "print(\"Unique Products = \",tx_data.article_id.unique().size)"
   ]
  },
  {
   "cell_type": "markdown",
   "metadata": {},
   "source": [
    "#### Since the transaction date is String, we can convert this feature into a timestamp"
   ]
  },
  {
   "cell_type": "code",
   "execution_count": 9,
   "metadata": {},
   "outputs": [],
   "source": [
    "tx_data['t_dat'] = pd.to_datetime(tx_data['t_dat'])\n"
   ]
  },
  {
   "cell_type": "markdown",
   "metadata": {},
   "source": [
    "#### Since customer id field is encoded string which will be problem in training the model, we will replace customer Id with index value and save the dictionary of encoded customer id and index value for future referece. Then we can drop the encoded value"
   ]
  },
  {
   "cell_type": "code",
   "execution_count": 10,
   "metadata": {},
   "outputs": [],
   "source": [
    "tx_data.rename(columns = {'customer_id':'customer_id_encoded'}, inplace = True)\n",
    "tx_user = pd.DataFrame(tx_data['customer_id_encoded'].unique())\n",
    "tx_user.columns = ['customer_id_encoded']\n",
    "tx_user['customer_id'] = tx_user.index+1\n",
    "tx_customer_index_mapping=tx_user[['customer_id','customer_id_encoded']]\n",
    "tx_customer_index_mapping.to_csv('customer_mapping.csv')\n",
    "tx_data = pd.merge(tx_data,tx_customer_index_mapping,on='customer_id_encoded',how='left')"
   ]
  },
  {
   "cell_type": "markdown",
   "metadata": {},
   "source": [
    "### We no longer need the encoded customer ID"
   ]
  },
  {
   "cell_type": "code",
   "execution_count": 11,
   "metadata": {},
   "outputs": [],
   "source": [
    "tx_data=tx_data.drop(\"customer_id_encoded\",axis=1)"
   ]
  },
  {
   "cell_type": "code",
   "execution_count": 12,
   "metadata": {},
   "outputs": [],
   "source": [
    "tx_user=tx_user.drop(\"customer_id_encoded\",axis=1)"
   ]
  },
  {
   "cell_type": "code",
   "execution_count": 13,
   "metadata": {},
   "outputs": [
    {
     "data": {
      "text/html": [
       "<div>\n",
       "<style scoped>\n",
       "    .dataframe tbody tr th:only-of-type {\n",
       "        vertical-align: middle;\n",
       "    }\n",
       "\n",
       "    .dataframe tbody tr th {\n",
       "        vertical-align: top;\n",
       "    }\n",
       "\n",
       "    .dataframe thead th {\n",
       "        text-align: right;\n",
       "    }\n",
       "</style>\n",
       "<table border=\"1\" class=\"dataframe\">\n",
       "  <thead>\n",
       "    <tr style=\"text-align: right;\">\n",
       "      <th></th>\n",
       "      <th>t_dat</th>\n",
       "      <th>article_id</th>\n",
       "      <th>price</th>\n",
       "      <th>sales_channel_id</th>\n",
       "      <th>customer_id</th>\n",
       "    </tr>\n",
       "  </thead>\n",
       "  <tbody>\n",
       "    <tr>\n",
       "      <th>0</th>\n",
       "      <td>2018-09-20</td>\n",
       "      <td>663713001</td>\n",
       "      <td>0.050831</td>\n",
       "      <td>2</td>\n",
       "      <td>1</td>\n",
       "    </tr>\n",
       "    <tr>\n",
       "      <th>1</th>\n",
       "      <td>2018-09-20</td>\n",
       "      <td>541518023</td>\n",
       "      <td>0.030492</td>\n",
       "      <td>2</td>\n",
       "      <td>1</td>\n",
       "    </tr>\n",
       "    <tr>\n",
       "      <th>2</th>\n",
       "      <td>2018-09-20</td>\n",
       "      <td>505221004</td>\n",
       "      <td>0.015237</td>\n",
       "      <td>2</td>\n",
       "      <td>2</td>\n",
       "    </tr>\n",
       "    <tr>\n",
       "      <th>3</th>\n",
       "      <td>2018-09-20</td>\n",
       "      <td>685687003</td>\n",
       "      <td>0.016932</td>\n",
       "      <td>2</td>\n",
       "      <td>2</td>\n",
       "    </tr>\n",
       "    <tr>\n",
       "      <th>4</th>\n",
       "      <td>2018-09-20</td>\n",
       "      <td>685687004</td>\n",
       "      <td>0.016932</td>\n",
       "      <td>2</td>\n",
       "      <td>2</td>\n",
       "    </tr>\n",
       "  </tbody>\n",
       "</table>\n",
       "</div>"
      ],
      "text/plain": [
       "       t_dat  article_id     price  sales_channel_id  customer_id\n",
       "0 2018-09-20   663713001  0.050831                 2            1\n",
       "1 2018-09-20   541518023  0.030492                 2            1\n",
       "2 2018-09-20   505221004  0.015237                 2            2\n",
       "3 2018-09-20   685687003  0.016932                 2            2\n",
       "4 2018-09-20   685687004  0.016932                 2            2"
      ]
     },
     "execution_count": 13,
     "metadata": {},
     "output_type": "execute_result"
    }
   ],
   "source": [
    "tx_data.head()"
   ]
  },
  {
   "cell_type": "markdown",
   "metadata": {},
   "source": [
    "### Read the customer data from customers.csv"
   ]
  },
  {
   "cell_type": "code",
   "execution_count": 14,
   "metadata": {},
   "outputs": [],
   "source": [
    "customer_key = 'customers.csv'\n",
    "user_location = 's3://{}/{}/{}'.format(bucket, folder,customer_key)\n",
    "pd.set_option('max_colwidth', 100)  # default is 50\n",
    "df_cust = pd.read_csv(user_location)\n"
   ]
  },
  {
   "cell_type": "markdown",
   "metadata": {},
   "source": [
    "### replace the encoded customer id with numeric customer id from previous step"
   ]
  },
  {
   "cell_type": "code",
   "execution_count": 15,
   "metadata": {},
   "outputs": [
    {
     "data": {
      "text/html": [
       "<div>\n",
       "<style scoped>\n",
       "    .dataframe tbody tr th:only-of-type {\n",
       "        vertical-align: middle;\n",
       "    }\n",
       "\n",
       "    .dataframe tbody tr th {\n",
       "        vertical-align: top;\n",
       "    }\n",
       "\n",
       "    .dataframe thead th {\n",
       "        text-align: right;\n",
       "    }\n",
       "</style>\n",
       "<table border=\"1\" class=\"dataframe\">\n",
       "  <thead>\n",
       "    <tr style=\"text-align: right;\">\n",
       "      <th></th>\n",
       "      <th>customer_id_encoded</th>\n",
       "      <th>FN</th>\n",
       "      <th>Active</th>\n",
       "      <th>club_member_status</th>\n",
       "      <th>fashion_news_frequency</th>\n",
       "      <th>age</th>\n",
       "      <th>postal_code</th>\n",
       "      <th>Unnamed: 0</th>\n",
       "      <th>customer_id</th>\n",
       "    </tr>\n",
       "  </thead>\n",
       "  <tbody>\n",
       "    <tr>\n",
       "      <th>0</th>\n",
       "      <td>00000dbacae5abe5e23885899a1fa44253a17956c6d1c3d25f88aa139fdfc657</td>\n",
       "      <td>NaN</td>\n",
       "      <td>NaN</td>\n",
       "      <td>ACTIVE</td>\n",
       "      <td>NONE</td>\n",
       "      <td>49.0</td>\n",
       "      <td>52043ee2162cf5aa7ee79974281641c6f11a68d276429a91f8ca0d4b6efa8100</td>\n",
       "      <td>568616.0</td>\n",
       "      <td>568617.0</td>\n",
       "    </tr>\n",
       "    <tr>\n",
       "      <th>1</th>\n",
       "      <td>0000423b00ade91418cceaf3b26c6af3dd342b51fd051eec9c12fb36984420fa</td>\n",
       "      <td>NaN</td>\n",
       "      <td>NaN</td>\n",
       "      <td>ACTIVE</td>\n",
       "      <td>NONE</td>\n",
       "      <td>25.0</td>\n",
       "      <td>2973abc54daa8a5f8ccfe9362140c63247c5eee03f1d93f4c830291c32bc3057</td>\n",
       "      <td>13987.0</td>\n",
       "      <td>13988.0</td>\n",
       "    </tr>\n",
       "    <tr>\n",
       "      <th>2</th>\n",
       "      <td>000058a12d5b43e67d225668fa1f8d618c13dc232df0cad8ffe7ad4a1091e318</td>\n",
       "      <td>NaN</td>\n",
       "      <td>NaN</td>\n",
       "      <td>ACTIVE</td>\n",
       "      <td>NONE</td>\n",
       "      <td>24.0</td>\n",
       "      <td>64f17e6a330a85798e4998f62d0930d14db8db1c054af6c9090f7dd3e38380dc</td>\n",
       "      <td>0.0</td>\n",
       "      <td>1.0</td>\n",
       "    </tr>\n",
       "    <tr>\n",
       "      <th>3</th>\n",
       "      <td>00005ca1c9ed5f5146b52ac8639a40ca9d57aeff4d1bd2c5feb1ca5dff07c43e</td>\n",
       "      <td>NaN</td>\n",
       "      <td>NaN</td>\n",
       "      <td>ACTIVE</td>\n",
       "      <td>NONE</td>\n",
       "      <td>54.0</td>\n",
       "      <td>5d36574f52495e81f019b680c843c443bd343d5ca5b1c222539af5973a23ae6d</td>\n",
       "      <td>877559.0</td>\n",
       "      <td>877560.0</td>\n",
       "    </tr>\n",
       "    <tr>\n",
       "      <th>4</th>\n",
       "      <td>00006413d8573cd20ed7128e53b7b13819fe5cfc2d801fe7fc0f26dd8d65a85a</td>\n",
       "      <td>1.0</td>\n",
       "      <td>1.0</td>\n",
       "      <td>ACTIVE</td>\n",
       "      <td>Regularly</td>\n",
       "      <td>52.0</td>\n",
       "      <td>25fa5ddee9aac01b35208d01736e57942317d756b32ddd4564743b005a805b1d</td>\n",
       "      <td>221115.0</td>\n",
       "      <td>221116.0</td>\n",
       "    </tr>\n",
       "  </tbody>\n",
       "</table>\n",
       "</div>"
      ],
      "text/plain": [
       "                                                customer_id_encoded   FN  \\\n",
       "0  00000dbacae5abe5e23885899a1fa44253a17956c6d1c3d25f88aa139fdfc657  NaN   \n",
       "1  0000423b00ade91418cceaf3b26c6af3dd342b51fd051eec9c12fb36984420fa  NaN   \n",
       "2  000058a12d5b43e67d225668fa1f8d618c13dc232df0cad8ffe7ad4a1091e318  NaN   \n",
       "3  00005ca1c9ed5f5146b52ac8639a40ca9d57aeff4d1bd2c5feb1ca5dff07c43e  NaN   \n",
       "4  00006413d8573cd20ed7128e53b7b13819fe5cfc2d801fe7fc0f26dd8d65a85a  1.0   \n",
       "\n",
       "   Active club_member_status fashion_news_frequency   age  \\\n",
       "0     NaN             ACTIVE                   NONE  49.0   \n",
       "1     NaN             ACTIVE                   NONE  25.0   \n",
       "2     NaN             ACTIVE                   NONE  24.0   \n",
       "3     NaN             ACTIVE                   NONE  54.0   \n",
       "4     1.0             ACTIVE              Regularly  52.0   \n",
       "\n",
       "                                                        postal_code  \\\n",
       "0  52043ee2162cf5aa7ee79974281641c6f11a68d276429a91f8ca0d4b6efa8100   \n",
       "1  2973abc54daa8a5f8ccfe9362140c63247c5eee03f1d93f4c830291c32bc3057   \n",
       "2  64f17e6a330a85798e4998f62d0930d14db8db1c054af6c9090f7dd3e38380dc   \n",
       "3  5d36574f52495e81f019b680c843c443bd343d5ca5b1c222539af5973a23ae6d   \n",
       "4  25fa5ddee9aac01b35208d01736e57942317d756b32ddd4564743b005a805b1d   \n",
       "\n",
       "   Unnamed: 0  customer_id  \n",
       "0    568616.0     568617.0  \n",
       "1     13987.0      13988.0  \n",
       "2         0.0          1.0  \n",
       "3    877559.0     877560.0  \n",
       "4    221115.0     221116.0  "
      ]
     },
     "execution_count": 15,
     "metadata": {},
     "output_type": "execute_result"
    }
   ],
   "source": [
    "tx_mapping=pd.read_csv('./customer_mapping.csv')\n",
    "df_cust.rename(columns = {'customer_id':'customer_id_encoded'}, inplace = True)\n",
    "df_cust = pd.merge(df_cust,tx_mapping,on='customer_id_encoded',how='left')\n",
    "df_cust.head()\n"
   ]
  },
  {
   "cell_type": "code",
   "execution_count": 16,
   "metadata": {},
   "outputs": [
    {
     "data": {
      "text/plain": [
       "Index(['customer_id_encoded', 'FN', 'Active', 'club_member_status',\n",
       "       'fashion_news_frequency', 'age', 'postal_code', 'Unnamed: 0',\n",
       "       'customer_id'],\n",
       "      dtype='object')"
      ]
     },
     "execution_count": 16,
     "metadata": {},
     "output_type": "execute_result"
    }
   ],
   "source": [
    "df_cust.columns"
   ]
  },
  {
   "cell_type": "markdown",
   "metadata": {},
   "source": [
    "### Following are the details of the customers data\n",
    "- customer_id_encoded - Transaction date\n",
    "- FN - First Name. Not a useful feature for this column\n",
    "- Active - If customer is active customer at present\n",
    "- club_member_status - Status of customer club membership\n",
    "- fashion_news_frequency - Wich channel was used for the purchase\n",
    "- age - Age of customer\n",
    "- postal_code - Area zip code for the customer Tis column has hig cardinality and not very useful\n"
   ]
  },
  {
   "cell_type": "code",
   "execution_count": 17,
   "metadata": {},
   "outputs": [
    {
     "data": {
      "text/plain": [
       "1.0    464404\n",
       "Name: Active, dtype: int64"
      ]
     },
     "execution_count": 17,
     "metadata": {},
     "output_type": "execute_result"
    }
   ],
   "source": [
    "df_cust.Active.value_counts()"
   ]
  },
  {
   "cell_type": "code",
   "execution_count": 18,
   "metadata": {},
   "outputs": [
    {
     "data": {
      "text/plain": [
       "907576"
      ]
     },
     "execution_count": 18,
     "metadata": {},
     "output_type": "execute_result"
    }
   ],
   "source": [
    "df_cust.Active.isna().sum()"
   ]
  },
  {
   "cell_type": "markdown",
   "metadata": {},
   "source": [
    "### There are 907K records where Active value is na. We can recreate a new column called status. whic is a binary feature. Active = 1 Others =0 "
   ]
  },
  {
   "cell_type": "code",
   "execution_count": 19,
   "metadata": {},
   "outputs": [],
   "source": [
    "df_cust['status'] = df_cust['Active'].fillna(0)"
   ]
  },
  {
   "cell_type": "code",
   "execution_count": 20,
   "metadata": {},
   "outputs": [
    {
     "data": {
      "text/plain": [
       "0.0    907576\n",
       "1.0    464404\n",
       "Name: status, dtype: int64"
      ]
     },
     "execution_count": 20,
     "metadata": {},
     "output_type": "execute_result"
    }
   ],
   "source": [
    "df_cust.status.value_counts()"
   ]
  },
  {
   "cell_type": "code",
   "execution_count": 21,
   "metadata": {},
   "outputs": [
    {
     "data": {
      "text/plain": [
       "NONE         877711\n",
       "Regularly    477416\n",
       "Monthly         842\n",
       "None              2\n",
       "Name: fashion_news_frequency, dtype: int64"
      ]
     },
     "execution_count": 21,
     "metadata": {},
     "output_type": "execute_result"
    }
   ],
   "source": [
    "df_cust[\"fashion_news_frequency\"].value_counts()"
   ]
  },
  {
   "cell_type": "markdown",
   "metadata": {},
   "source": [
    "### Some data cleansing is required for Fashion news frequency, For fashion news frequency replace None with NONE"
   ]
  },
  {
   "cell_type": "code",
   "execution_count": 22,
   "metadata": {},
   "outputs": [],
   "source": [
    "df_cust[\"fashion_news_frequency\"]=df_cust[\"fashion_news_frequency\"].replace(\"None\", \"NONE\",regex=True)"
   ]
  },
  {
   "cell_type": "code",
   "execution_count": 23,
   "metadata": {},
   "outputs": [
    {
     "data": {
      "text/plain": [
       "Index(['customer_id_encoded', 'FN', 'Active', 'club_member_status',\n",
       "       'fashion_news_frequency', 'age', 'postal_code', 'Unnamed: 0',\n",
       "       'customer_id', 'status'],\n",
       "      dtype='object')"
      ]
     },
     "execution_count": 23,
     "metadata": {},
     "output_type": "execute_result"
    }
   ],
   "source": [
    "df_cust.columns"
   ]
  },
  {
   "cell_type": "code",
   "execution_count": 24,
   "metadata": {},
   "outputs": [
    {
     "data": {
      "text/plain": [
       "352899"
      ]
     },
     "execution_count": 24,
     "metadata": {},
     "output_type": "execute_result"
    }
   ],
   "source": [
    "df_cust.postal_code.nunique()"
   ]
  },
  {
   "cell_type": "markdown",
   "metadata": {},
   "source": [
    "### Postal code has very high cardinality and is not useful feature. It qualifies neither an Ordinal or Nominal categorical feature. If we have some idea about some popular postal codes from business analysts of company then we may create some categorical attributes with this. As of now it is best to ignore this feature"
   ]
  },
  {
   "cell_type": "markdown",
   "metadata": {},
   "source": [
    "### Remove unwanted columns like postal code which has very high cardinality, First Name, Active (Since a new Status column was created from this)"
   ]
  },
  {
   "cell_type": "code",
   "execution_count": 25,
   "metadata": {},
   "outputs": [],
   "source": [
    "col_drop=['postal_code','FN','customer_id_encoded','Unnamed: 0','Active']\n",
    "df_cust=df_cust.drop(col_drop,axis=1)"
   ]
  },
  {
   "cell_type": "code",
   "execution_count": 26,
   "metadata": {},
   "outputs": [
    {
     "data": {
      "text/html": [
       "<div>\n",
       "<style scoped>\n",
       "    .dataframe tbody tr th:only-of-type {\n",
       "        vertical-align: middle;\n",
       "    }\n",
       "\n",
       "    .dataframe tbody tr th {\n",
       "        vertical-align: top;\n",
       "    }\n",
       "\n",
       "    .dataframe thead th {\n",
       "        text-align: right;\n",
       "    }\n",
       "</style>\n",
       "<table border=\"1\" class=\"dataframe\">\n",
       "  <thead>\n",
       "    <tr style=\"text-align: right;\">\n",
       "      <th></th>\n",
       "      <th>club_member_status</th>\n",
       "      <th>fashion_news_frequency</th>\n",
       "      <th>age</th>\n",
       "      <th>customer_id</th>\n",
       "      <th>status</th>\n",
       "    </tr>\n",
       "  </thead>\n",
       "  <tbody>\n",
       "    <tr>\n",
       "      <th>0</th>\n",
       "      <td>ACTIVE</td>\n",
       "      <td>NONE</td>\n",
       "      <td>49.0</td>\n",
       "      <td>568617.0</td>\n",
       "      <td>0.0</td>\n",
       "    </tr>\n",
       "    <tr>\n",
       "      <th>1</th>\n",
       "      <td>ACTIVE</td>\n",
       "      <td>NONE</td>\n",
       "      <td>25.0</td>\n",
       "      <td>13988.0</td>\n",
       "      <td>0.0</td>\n",
       "    </tr>\n",
       "    <tr>\n",
       "      <th>2</th>\n",
       "      <td>ACTIVE</td>\n",
       "      <td>NONE</td>\n",
       "      <td>24.0</td>\n",
       "      <td>1.0</td>\n",
       "      <td>0.0</td>\n",
       "    </tr>\n",
       "    <tr>\n",
       "      <th>3</th>\n",
       "      <td>ACTIVE</td>\n",
       "      <td>NONE</td>\n",
       "      <td>54.0</td>\n",
       "      <td>877560.0</td>\n",
       "      <td>0.0</td>\n",
       "    </tr>\n",
       "    <tr>\n",
       "      <th>4</th>\n",
       "      <td>ACTIVE</td>\n",
       "      <td>Regularly</td>\n",
       "      <td>52.0</td>\n",
       "      <td>221116.0</td>\n",
       "      <td>1.0</td>\n",
       "    </tr>\n",
       "  </tbody>\n",
       "</table>\n",
       "</div>"
      ],
      "text/plain": [
       "  club_member_status fashion_news_frequency   age  customer_id  status\n",
       "0             ACTIVE                   NONE  49.0     568617.0     0.0\n",
       "1             ACTIVE                   NONE  25.0      13988.0     0.0\n",
       "2             ACTIVE                   NONE  24.0          1.0     0.0\n",
       "3             ACTIVE                   NONE  54.0     877560.0     0.0\n",
       "4             ACTIVE              Regularly  52.0     221116.0     1.0"
      ]
     },
     "execution_count": 26,
     "metadata": {},
     "output_type": "execute_result"
    }
   ],
   "source": [
    "df_cust.head()"
   ]
  },
  {
   "cell_type": "markdown",
   "metadata": {},
   "source": [
    "### Lets do one hot encoding on categorical features - club_member_status, fashion_news_frequency"
   ]
  },
  {
   "cell_type": "code",
   "execution_count": 27,
   "metadata": {},
   "outputs": [],
   "source": [
    "df_cust=pd.get_dummies(df_cust)"
   ]
  },
  {
   "cell_type": "code",
   "execution_count": 28,
   "metadata": {},
   "outputs": [
    {
     "data": {
      "text/plain": [
       "Index(['age', 'customer_id', 'status', 'club_member_status_ACTIVE',\n",
       "       'club_member_status_LEFT CLUB', 'club_member_status_PRE-CREATE',\n",
       "       'fashion_news_frequency_Monthly', 'fashion_news_frequency_NONE',\n",
       "       'fashion_news_frequency_Regularly'],\n",
       "      dtype='object')"
      ]
     },
     "execution_count": 28,
     "metadata": {},
     "output_type": "execute_result"
    }
   ],
   "source": [
    "df_cust.columns"
   ]
  },
  {
   "cell_type": "markdown",
   "metadata": {},
   "source": [
    "### checking for any undefined values"
   ]
  },
  {
   "cell_type": "code",
   "execution_count": 29,
   "metadata": {},
   "outputs": [
    {
     "data": {
      "text/plain": [
       "age                                 15861\n",
       "customer_id                          9699\n",
       "status                                  0\n",
       "club_member_status_ACTIVE               0\n",
       "club_member_status_LEFT CLUB            0\n",
       "club_member_status_PRE-CREATE           0\n",
       "fashion_news_frequency_Monthly          0\n",
       "fashion_news_frequency_NONE             0\n",
       "fashion_news_frequency_Regularly        0\n",
       "dtype: int64"
      ]
     },
     "execution_count": 29,
     "metadata": {},
     "output_type": "execute_result"
    }
   ],
   "source": [
    "df_cust.isna().sum()"
   ]
  },
  {
   "cell_type": "markdown",
   "metadata": {},
   "source": [
    "### Lets do some further cleanups\n",
    "- Lets replace age with the mean age of all the  customers where age is undefined \n",
    "- We see some customer ids are undefined. These are those customers which were there in customers.csv but those customer ids were not present in transaction data. Which means that these customers have never done any transaction for the said time period and not very useful for us. So we can safgely remove these customers from our customers data"
   ]
  },
  {
   "cell_type": "code",
   "execution_count": 30,
   "metadata": {},
   "outputs": [],
   "source": [
    "df_cust['age'].fillna(df_cust['age'].mean(), inplace=True)"
   ]
  },
  {
   "cell_type": "code",
   "execution_count": 31,
   "metadata": {},
   "outputs": [
    {
     "data": {
      "text/plain": [
       "age                                 0\n",
       "customer_id                         0\n",
       "status                              0\n",
       "club_member_status_ACTIVE           0\n",
       "club_member_status_LEFT CLUB        0\n",
       "club_member_status_PRE-CREATE       0\n",
       "fashion_news_frequency_Monthly      0\n",
       "fashion_news_frequency_NONE         0\n",
       "fashion_news_frequency_Regularly    0\n",
       "dtype: int64"
      ]
     },
     "execution_count": 31,
     "metadata": {},
     "output_type": "execute_result"
    }
   ],
   "source": [
    "df_cust=df_cust.dropna()\n",
    "df_cust.isna().sum()"
   ]
  },
  {
   "cell_type": "code",
   "execution_count": 32,
   "metadata": {},
   "outputs": [],
   "source": [
    "df_cust.to_csv(\"user_mapping.csv\")"
   ]
  },
  {
   "cell_type": "markdown",
   "metadata": {},
   "source": [
    "## Lets collect all customer Ids grouped in one data frame and calculate Recency, Frequency And Monetory Score for each customer"
   ]
  },
  {
   "cell_type": "markdown",
   "metadata": {},
   "source": [
    "\n",
    "# Recency\n",
    "### Recency is defined as how soon a customer purchased. Lower the recency number the better are chances of customer purchasing in next few days. So we will reward the lower recency number with better score"
   ]
  },
  {
   "cell_type": "markdown",
   "metadata": {},
   "source": [
    "#### We will follow following steps in calculating the recency score\n",
    "- Group customer ID with last purchase date in te timeperiod\n",
    "- Calculate the max transactions date from the whole transaction data\n",
    "- For each customer calculate recency days by subtracting the customer;s max transaction date with the dataset's max transaction date\n",
    "- Pass all the recency days to a KMeans and calculate the optimum number of clusters\n",
    "- Each recency day is attributed to a cluster ID (0,1,2,3 ..)\n",
    "- The cluster ID can be manipulated as a recency score (1,2,3..)\n",
    "- Higher the recency number lower the recency score"
   ]
  },
  {
   "cell_type": "code",
   "execution_count": 33,
   "metadata": {},
   "outputs": [],
   "source": [
    "tx_max_purchase = tx_data.groupby('customer_id').t_dat.max().reset_index()\n",
    "tx_max_purchase.columns = ['customer_id','MaxPurchaseDate']\n",
    "tx_max_purchase['Recency'] = (tx_max_purchase['MaxPurchaseDate'].max() - tx_max_purchase['MaxPurchaseDate']).dt.days\n",
    "tx_user = pd.merge(tx_user, tx_max_purchase[['customer_id','Recency']], on='customer_id')"
   ]
  },
  {
   "cell_type": "code",
   "execution_count": 34,
   "metadata": {},
   "outputs": [
    {
     "data": {
      "text/html": [
       "<div>\n",
       "<style scoped>\n",
       "    .dataframe tbody tr th:only-of-type {\n",
       "        vertical-align: middle;\n",
       "    }\n",
       "\n",
       "    .dataframe tbody tr th {\n",
       "        vertical-align: top;\n",
       "    }\n",
       "\n",
       "    .dataframe thead th {\n",
       "        text-align: right;\n",
       "    }\n",
       "</style>\n",
       "<table border=\"1\" class=\"dataframe\">\n",
       "  <thead>\n",
       "    <tr style=\"text-align: right;\">\n",
       "      <th></th>\n",
       "      <th>customer_id</th>\n",
       "      <th>Recency</th>\n",
       "    </tr>\n",
       "  </thead>\n",
       "  <tbody>\n",
       "    <tr>\n",
       "      <th>0</th>\n",
       "      <td>1</td>\n",
       "      <td>7</td>\n",
       "    </tr>\n",
       "    <tr>\n",
       "      <th>1</th>\n",
       "      <td>2</td>\n",
       "      <td>132</td>\n",
       "    </tr>\n",
       "    <tr>\n",
       "      <th>2</th>\n",
       "      <td>3</td>\n",
       "      <td>174</td>\n",
       "    </tr>\n",
       "    <tr>\n",
       "      <th>3</th>\n",
       "      <td>4</td>\n",
       "      <td>8</td>\n",
       "    </tr>\n",
       "    <tr>\n",
       "      <th>4</th>\n",
       "      <td>5</td>\n",
       "      <td>160</td>\n",
       "    </tr>\n",
       "    <tr>\n",
       "      <th>...</th>\n",
       "      <td>...</td>\n",
       "      <td>...</td>\n",
       "    </tr>\n",
       "    <tr>\n",
       "      <th>1362276</th>\n",
       "      <td>1362277</td>\n",
       "      <td>0</td>\n",
       "    </tr>\n",
       "    <tr>\n",
       "      <th>1362277</th>\n",
       "      <td>1362278</td>\n",
       "      <td>0</td>\n",
       "    </tr>\n",
       "    <tr>\n",
       "      <th>1362278</th>\n",
       "      <td>1362279</td>\n",
       "      <td>0</td>\n",
       "    </tr>\n",
       "    <tr>\n",
       "      <th>1362279</th>\n",
       "      <td>1362280</td>\n",
       "      <td>0</td>\n",
       "    </tr>\n",
       "    <tr>\n",
       "      <th>1362280</th>\n",
       "      <td>1362281</td>\n",
       "      <td>0</td>\n",
       "    </tr>\n",
       "  </tbody>\n",
       "</table>\n",
       "<p>1362281 rows × 2 columns</p>\n",
       "</div>"
      ],
      "text/plain": [
       "         customer_id  Recency\n",
       "0                  1        7\n",
       "1                  2      132\n",
       "2                  3      174\n",
       "3                  4        8\n",
       "4                  5      160\n",
       "...              ...      ...\n",
       "1362276      1362277        0\n",
       "1362277      1362278        0\n",
       "1362278      1362279        0\n",
       "1362279      1362280        0\n",
       "1362280      1362281        0\n",
       "\n",
       "[1362281 rows x 2 columns]"
      ]
     },
     "execution_count": 34,
     "metadata": {},
     "output_type": "execute_result"
    }
   ],
   "source": [
    "tx_user"
   ]
  },
  {
   "cell_type": "code",
   "execution_count": 35,
   "metadata": {},
   "outputs": [
    {
     "data": {
      "text/plain": [
       "count    1.362281e+06\n",
       "mean     2.351484e+02\n",
       "std      2.211188e+02\n",
       "min      0.000000e+00\n",
       "25%      4.800000e+01\n",
       "50%      1.510000e+02\n",
       "75%      3.980000e+02\n",
       "max      7.330000e+02\n",
       "Name: Recency, dtype: float64"
      ]
     },
     "execution_count": 35,
     "metadata": {},
     "output_type": "execute_result"
    }
   ],
   "source": [
    "tx_user.Recency.describe()"
   ]
  },
  {
   "cell_type": "markdown",
   "metadata": {},
   "source": [
    "### We have recency number.Now we can create clusters from these recency numbers and try to assign a score against each cluster. Remember lower recency number will be rewarded with a better score"
   ]
  },
  {
   "cell_type": "markdown",
   "metadata": {},
   "source": [
    "#### Lets run KMeans on Recency numbers and cluster them in unique clusters"
   ]
  },
  {
   "cell_type": "code",
   "execution_count": 36,
   "metadata": {},
   "outputs": [],
   "source": [
    "from sklearn.cluster import KMeans\n"
   ]
  },
  {
   "cell_type": "code",
   "execution_count": 37,
   "metadata": {},
   "outputs": [
    {
     "name": "stdout",
     "output_type": "stream",
     "text": [
      "Requirement already satisfied: matplotlib in /usr/local/lib/python3.8/site-packages (3.5.0)\n",
      "Requirement already satisfied: numpy>=1.17 in /usr/local/lib/python3.8/site-packages (from matplotlib) (1.19.5)\n",
      "Requirement already satisfied: pyparsing>=2.2.1 in /usr/local/lib/python3.8/site-packages (from matplotlib) (3.0.6)\n",
      "Requirement already satisfied: kiwisolver>=1.0.1 in /usr/local/lib/python3.8/site-packages (from matplotlib) (1.3.2)\n",
      "Requirement already satisfied: setuptools-scm>=4 in /usr/local/lib/python3.8/site-packages (from matplotlib) (6.3.2)\n",
      "Requirement already satisfied: cycler>=0.10 in /usr/local/lib/python3.8/site-packages (from matplotlib) (0.11.0)\n",
      "Requirement already satisfied: packaging>=20.0 in /usr/local/lib/python3.8/site-packages (from matplotlib) (21.3)\n",
      "Requirement already satisfied: fonttools>=4.22.0 in /usr/local/lib/python3.8/site-packages (from matplotlib) (4.28.3)\n",
      "Requirement already satisfied: python-dateutil>=2.7 in /usr/local/lib/python3.8/site-packages (from matplotlib) (2.8.2)\n",
      "Requirement already satisfied: pillow>=6.2.0 in /usr/local/lib/python3.8/site-packages (from matplotlib) (8.3.2)\n",
      "Requirement already satisfied: six>=1.5 in /usr/local/lib/python3.8/site-packages (from python-dateutil>=2.7->matplotlib) (1.16.0)\n",
      "Requirement already satisfied: tomli>=1.0.0 in /usr/local/lib/python3.8/site-packages (from setuptools-scm>=4->matplotlib) (1.2.2)\n",
      "Requirement already satisfied: setuptools in /usr/local/lib/python3.8/site-packages (from setuptools-scm>=4->matplotlib) (59.5.0)\n",
      "\u001b[33mWARNING: Running pip as the 'root' user can result in broken permissions and conflicting behaviour with the system package manager. It is recommended to use a virtual environment instead: https://pip.pypa.io/warnings/venv\u001b[0m\n",
      "\u001b[33mWARNING: You are using pip version 21.3.1; however, version 22.0.4 is available.\n",
      "You should consider upgrading via the '/usr/local/bin/python3.8 -m pip install --upgrade pip' command.\u001b[0m\n"
     ]
    }
   ],
   "source": [
    "!pip install matplotlib\n",
    "import matplotlib.pyplot as plt"
   ]
  },
  {
   "cell_type": "markdown",
   "metadata": {},
   "source": [
    "#### Identify optimum number of clusters between 1-10 by running Kmeans with cluster numbers from 1-10"
   ]
  },
  {
   "cell_type": "code",
   "execution_count": 38,
   "metadata": {},
   "outputs": [],
   "source": [
    "\n",
    "sse={}\n",
    "tx_recency = tx_user[['Recency']]\n",
    "for k in range(1, 10):\n",
    "    kmeans = KMeans(n_clusters=k, max_iter=1000).fit(tx_recency)\n",
    "    #tx_recency[\"clusters\"] = kmeans.labels_\n",
    "    sse[k] = kmeans.inertia_ \n"
   ]
  },
  {
   "cell_type": "markdown",
   "metadata": {},
   "source": [
    "#### Lets visualise the cluster number against the loss"
   ]
  },
  {
   "cell_type": "code",
   "execution_count": 39,
   "metadata": {},
   "outputs": [
    {
     "data": {
      "image/png": "[encoded data removed]",
      "text/plain": [
       "<Figure size 432x288 with 1 Axes>"
      ]
     },
     "metadata": {
      "needs_background": "light"
     },
     "output_type": "display_data"
    }
   ],
   "source": [
    "plt.figure()\n",
    "plt.plot(list(sse.keys()), list(sse.values()))\n",
    "plt.xlabel(\"Number of cluster\")\n",
    "plt.show()"
   ]
  },
  {
   "cell_type": "markdown",
   "metadata": {},
   "source": [
    "#### number of clusters can be choosen as much 4"
   ]
  },
  {
   "cell_type": "code",
   "execution_count": 40,
   "metadata": {},
   "outputs": [],
   "source": [
    "kmeans = KMeans(n_clusters=4)\n",
    "kmeans.fit(tx_user[['Recency']])\n",
    "tx_user['RecencyCluster'] = kmeans.predict(tx_user[['Recency']])"
   ]
  },
  {
   "cell_type": "code",
   "execution_count": 41,
   "metadata": {},
   "outputs": [
    {
     "data": {
      "text/plain": [
       "array([0, 2, 3, 1], dtype=int32)"
      ]
     },
     "execution_count": 41,
     "metadata": {},
     "output_type": "execute_result"
    }
   ],
   "source": [
    "tx_user.RecencyCluster.unique()"
   ]
  },
  {
   "cell_type": "markdown",
   "metadata": {},
   "source": [
    "#### Defining a utility function to order the cluster number against the score. \n",
    "- cluster_field_name - Column against which cluster Id was assigned\n",
    "- Target_filed_name - Column name of the new score column which will be added to the dataset\n",
    "- df - pandas dataset on which we are working\n",
    "- ascending - boolean field. This defines if score is directly proportional to the cluster id value. e.g Lower recency cluster number means High score which means ascending should be passed as false, similarly higher frequency should result in higher score so here ascending should be passed as true"
   ]
  },
  {
   "cell_type": "code",
   "execution_count": 42,
   "metadata": {},
   "outputs": [],
   "source": [
    "def order_cluster(cluster_field_name, target_field_name,df,ascending):\n",
    "    new_cluster_field_name = 'new_' + cluster_field_name\n",
    "    df_new = df.groupby(cluster_field_name)[target_field_name].mean().reset_index()\n",
    "    df_new = df_new.sort_values(by=target_field_name,ascending=ascending).reset_index(drop=True)\n",
    "    df_new['index'] = df_new.index\n",
    "    df_final = pd.merge(df,df_new[[cluster_field_name,'index']], on=cluster_field_name)\n",
    "    df_final = df_final.drop([cluster_field_name],axis=1)\n",
    "    df_final = df_final.rename(columns={\"index\":cluster_field_name})\n",
    "    return df_final"
   ]
  },
  {
   "cell_type": "code",
   "execution_count": 43,
   "metadata": {},
   "outputs": [],
   "source": [
    "tx_user = order_cluster('RecencyCluster', 'Recency',tx_user,False)"
   ]
  },
  {
   "cell_type": "code",
   "execution_count": 44,
   "metadata": {},
   "outputs": [
    {
     "data": {
      "text/plain": [
       "array([3, 2, 0, 1])"
      ]
     },
     "execution_count": 44,
     "metadata": {},
     "output_type": "execute_result"
    }
   ],
   "source": [
    "tx_user.groupby('RecencyCluster')['Recency'].describe()\n",
    "tx_user['RecencyCluster'].unique()"
   ]
  },
  {
   "cell_type": "markdown",
   "metadata": {},
   "source": [
    "# Frequency\n",
    "#### The Frequency is defined as how often the customer purchases. Higher the number the higher is the score for the customer"
   ]
  },
  {
   "cell_type": "markdown",
   "metadata": {},
   "source": [
    "#### We will follow following steps in calculating the Frequency score\n",
    "- Group customer ID with total purchases. Lets call that column as Frequency\n",
    "- Pass all the Frequency days to a KMeans and calculate the optimum number of clusters\n",
    "- Each frequency day is attributed to a cluster ID (0,1,2,3 ..)\n",
    "- The cluster ID can be manipulated as a frequency score (1,2,3..)\n",
    "- Higher the frequency number higher the frequency score"
   ]
  },
  {
   "cell_type": "code",
   "execution_count": 45,
   "metadata": {},
   "outputs": [
    {
     "data": {
      "text/html": [
       "<div>\n",
       "<style scoped>\n",
       "    .dataframe tbody tr th:only-of-type {\n",
       "        vertical-align: middle;\n",
       "    }\n",
       "\n",
       "    .dataframe tbody tr th {\n",
       "        vertical-align: top;\n",
       "    }\n",
       "\n",
       "    .dataframe thead th {\n",
       "        text-align: right;\n",
       "    }\n",
       "</style>\n",
       "<table border=\"1\" class=\"dataframe\">\n",
       "  <thead>\n",
       "    <tr style=\"text-align: right;\">\n",
       "      <th></th>\n",
       "      <th>customer_id</th>\n",
       "      <th>Frequency</th>\n",
       "    </tr>\n",
       "  </thead>\n",
       "  <tbody>\n",
       "    <tr>\n",
       "      <th>0</th>\n",
       "      <td>1</td>\n",
       "      <td>18</td>\n",
       "    </tr>\n",
       "    <tr>\n",
       "      <th>1</th>\n",
       "      <td>2</td>\n",
       "      <td>120</td>\n",
       "    </tr>\n",
       "    <tr>\n",
       "      <th>2</th>\n",
       "      <td>3</td>\n",
       "      <td>27</td>\n",
       "    </tr>\n",
       "    <tr>\n",
       "      <th>3</th>\n",
       "      <td>4</td>\n",
       "      <td>61</td>\n",
       "    </tr>\n",
       "    <tr>\n",
       "      <th>4</th>\n",
       "      <td>5</td>\n",
       "      <td>57</td>\n",
       "    </tr>\n",
       "  </tbody>\n",
       "</table>\n",
       "</div>"
      ],
      "text/plain": [
       "   customer_id  Frequency\n",
       "0            1         18\n",
       "1            2        120\n",
       "2            3         27\n",
       "3            4         61\n",
       "4            5         57"
      ]
     },
     "execution_count": 45,
     "metadata": {},
     "output_type": "execute_result"
    }
   ],
   "source": [
    "tx_frequency = tx_data.groupby('customer_id').t_dat.count().reset_index()\n",
    "tx_frequency.columns = ['customer_id','Frequency']\n",
    "tx_frequency.head()"
   ]
  },
  {
   "cell_type": "code",
   "execution_count": 46,
   "metadata": {},
   "outputs": [],
   "source": [
    "tx_user = pd.merge(tx_user, tx_frequency, on='customer_id')"
   ]
  },
  {
   "cell_type": "code",
   "execution_count": 47,
   "metadata": {},
   "outputs": [
    {
     "data": {
      "text/plain": [
       "count    1.362281e+06\n",
       "mean     2.333463e+01\n",
       "std      3.924225e+01\n",
       "min      1.000000e+00\n",
       "25%      3.000000e+00\n",
       "50%      9.000000e+00\n",
       "75%      2.700000e+01\n",
       "max      1.895000e+03\n",
       "Name: Frequency, dtype: float64"
      ]
     },
     "execution_count": 47,
     "metadata": {},
     "output_type": "execute_result"
    }
   ],
   "source": [
    "tx_user.Frequency.describe()"
   ]
  },
  {
   "cell_type": "markdown",
   "metadata": {},
   "source": [
    "#### Lets run K means on the frequency number and try to find the optimum number of clusters"
   ]
  },
  {
   "cell_type": "code",
   "execution_count": 48,
   "metadata": {},
   "outputs": [
    {
     "data": {
      "image/png": "[encoded data removed]",
      "text/plain": [
       "<Figure size 432x288 with 1 Axes>"
      ]
     },
     "metadata": {
      "needs_background": "light"
     },
     "output_type": "display_data"
    }
   ],
   "source": [
    "sse_freq={}\n",
    "tx_freq= tx_user[['Frequency']]\n",
    "for k in range(1, 10):\n",
    "    kmeans_freq = KMeans(n_clusters=k, max_iter=1000).fit(tx_freq)\n",
    "    #tx_freq[\"clusters\"] = kmeans_freq.labels_\n",
    "    sse_freq[k] = kmeans_freq.inertia_ \n",
    "plt.figure()\n",
    "plt.plot(list(sse_freq.keys()), list(sse_freq.values()))\n",
    "plt.xlabel(\"Number of cluster\")\n",
    "plt.show()\n"
   ]
  },
  {
   "cell_type": "code",
   "execution_count": 49,
   "metadata": {},
   "outputs": [],
   "source": [
    "kmeans = KMeans(n_clusters=4)\n",
    "kmeans.fit(tx_user[['Frequency']])\n",
    "tx_user['FrequencyCluster'] = kmeans.predict(tx_user[['Frequency']])"
   ]
  },
  {
   "cell_type": "code",
   "execution_count": 50,
   "metadata": {},
   "outputs": [
    {
     "data": {
      "text/html": [
       "<div>\n",
       "<style scoped>\n",
       "    .dataframe tbody tr th:only-of-type {\n",
       "        vertical-align: middle;\n",
       "    }\n",
       "\n",
       "    .dataframe tbody tr th {\n",
       "        vertical-align: top;\n",
       "    }\n",
       "\n",
       "    .dataframe thead th {\n",
       "        text-align: right;\n",
       "    }\n",
       "</style>\n",
       "<table border=\"1\" class=\"dataframe\">\n",
       "  <thead>\n",
       "    <tr style=\"text-align: right;\">\n",
       "      <th></th>\n",
       "      <th>count</th>\n",
       "      <th>mean</th>\n",
       "      <th>std</th>\n",
       "      <th>min</th>\n",
       "      <th>25%</th>\n",
       "      <th>50%</th>\n",
       "      <th>75%</th>\n",
       "      <th>max</th>\n",
       "    </tr>\n",
       "    <tr>\n",
       "      <th>FrequencyCluster</th>\n",
       "      <th></th>\n",
       "      <th></th>\n",
       "      <th></th>\n",
       "      <th></th>\n",
       "      <th></th>\n",
       "      <th></th>\n",
       "      <th></th>\n",
       "      <th></th>\n",
       "    </tr>\n",
       "  </thead>\n",
       "  <tbody>\n",
       "    <tr>\n",
       "      <th>0</th>\n",
       "      <td>249731.0</td>\n",
       "      <td>48.900801</td>\n",
       "      <td>15.833739</td>\n",
       "      <td>29.0</td>\n",
       "      <td>35.0</td>\n",
       "      <td>45.0</td>\n",
       "      <td>60.0</td>\n",
       "      <td>87.0</td>\n",
       "    </tr>\n",
       "    <tr>\n",
       "      <th>1</th>\n",
       "      <td>63578.0</td>\n",
       "      <td>126.686196</td>\n",
       "      <td>32.585245</td>\n",
       "      <td>88.0</td>\n",
       "      <td>100.0</td>\n",
       "      <td>118.0</td>\n",
       "      <td>146.0</td>\n",
       "      <td>216.0</td>\n",
       "    </tr>\n",
       "    <tr>\n",
       "      <th>2</th>\n",
       "      <td>9126.0</td>\n",
       "      <td>306.566075</td>\n",
       "      <td>107.850046</td>\n",
       "      <td>217.0</td>\n",
       "      <td>239.0</td>\n",
       "      <td>272.0</td>\n",
       "      <td>334.0</td>\n",
       "      <td>1895.0</td>\n",
       "    </tr>\n",
       "    <tr>\n",
       "      <th>3</th>\n",
       "      <td>1039846.0</td>\n",
       "      <td>8.389801</td>\n",
       "      <td>7.267233</td>\n",
       "      <td>1.0</td>\n",
       "      <td>3.0</td>\n",
       "      <td>6.0</td>\n",
       "      <td>13.0</td>\n",
       "      <td>28.0</td>\n",
       "    </tr>\n",
       "  </tbody>\n",
       "</table>\n",
       "</div>"
      ],
      "text/plain": [
       "                      count        mean         std    min    25%    50%  \\\n",
       "FrequencyCluster                                                           \n",
       "0                  249731.0   48.900801   15.833739   29.0   35.0   45.0   \n",
       "1                   63578.0  126.686196   32.585245   88.0  100.0  118.0   \n",
       "2                    9126.0  306.566075  107.850046  217.0  239.0  272.0   \n",
       "3                 1039846.0    8.389801    7.267233    1.0    3.0    6.0   \n",
       "\n",
       "                    75%     max  \n",
       "FrequencyCluster                 \n",
       "0                  60.0    87.0  \n",
       "1                 146.0   216.0  \n",
       "2                 334.0  1895.0  \n",
       "3                  13.0    28.0  "
      ]
     },
     "execution_count": 50,
     "metadata": {},
     "output_type": "execute_result"
    }
   ],
   "source": [
    "tx_user.groupby('FrequencyCluster')['Frequency'].describe()"
   ]
  },
  {
   "cell_type": "code",
   "execution_count": 51,
   "metadata": {},
   "outputs": [],
   "source": [
    "tx_user = order_cluster('FrequencyCluster', 'Frequency',tx_user,True)"
   ]
  },
  {
   "cell_type": "code",
   "execution_count": 52,
   "metadata": {},
   "outputs": [
    {
     "data": {
      "text/html": [
       "<div>\n",
       "<style scoped>\n",
       "    .dataframe tbody tr th:only-of-type {\n",
       "        vertical-align: middle;\n",
       "    }\n",
       "\n",
       "    .dataframe tbody tr th {\n",
       "        vertical-align: top;\n",
       "    }\n",
       "\n",
       "    .dataframe thead th {\n",
       "        text-align: right;\n",
       "    }\n",
       "</style>\n",
       "<table border=\"1\" class=\"dataframe\">\n",
       "  <thead>\n",
       "    <tr style=\"text-align: right;\">\n",
       "      <th></th>\n",
       "      <th>customer_id</th>\n",
       "      <th>Recency</th>\n",
       "      <th>RecencyCluster</th>\n",
       "      <th>Frequency</th>\n",
       "      <th>FrequencyCluster</th>\n",
       "    </tr>\n",
       "  </thead>\n",
       "  <tbody>\n",
       "    <tr>\n",
       "      <th>0</th>\n",
       "      <td>1</td>\n",
       "      <td>7</td>\n",
       "      <td>3</td>\n",
       "      <td>18</td>\n",
       "      <td>0</td>\n",
       "    </tr>\n",
       "    <tr>\n",
       "      <th>1</th>\n",
       "      <td>25</td>\n",
       "      <td>16</td>\n",
       "      <td>3</td>\n",
       "      <td>17</td>\n",
       "      <td>0</td>\n",
       "    </tr>\n",
       "    <tr>\n",
       "      <th>2</th>\n",
       "      <td>30</td>\n",
       "      <td>54</td>\n",
       "      <td>3</td>\n",
       "      <td>16</td>\n",
       "      <td>0</td>\n",
       "    </tr>\n",
       "    <tr>\n",
       "      <th>3</th>\n",
       "      <td>34</td>\n",
       "      <td>7</td>\n",
       "      <td>3</td>\n",
       "      <td>16</td>\n",
       "      <td>0</td>\n",
       "    </tr>\n",
       "    <tr>\n",
       "      <th>4</th>\n",
       "      <td>37</td>\n",
       "      <td>93</td>\n",
       "      <td>3</td>\n",
       "      <td>24</td>\n",
       "      <td>0</td>\n",
       "    </tr>\n",
       "  </tbody>\n",
       "</table>\n",
       "</div>"
      ],
      "text/plain": [
       "   customer_id  Recency  RecencyCluster  Frequency  FrequencyCluster\n",
       "0            1        7               3         18                 0\n",
       "1           25       16               3         17                 0\n",
       "2           30       54               3         16                 0\n",
       "3           34        7               3         16                 0\n",
       "4           37       93               3         24                 0"
      ]
     },
     "execution_count": 52,
     "metadata": {},
     "output_type": "execute_result"
    }
   ],
   "source": [
    "tx_user.head()"
   ]
  },
  {
   "cell_type": "markdown",
   "metadata": {},
   "source": [
    "# Monetary Value\n",
    "### Total money spend by customer will contribute to monetary score. More the total spend more is the revenue score . Lets calculate the Monetary value of each customer"
   ]
  },
  {
   "cell_type": "markdown",
   "metadata": {},
   "source": [
    "#### We will follow following steps in calculating the Monetary score\n",
    "- Group customer ID with total money spent on purchases.\n",
    "- Pass all the Price  to a KMeans and calculate the optimum number of clusters\n",
    "- Each Price number is attributed to a cluster ID (0,1,2,3 ..)\n",
    "- The cluster ID can be manipulated as a Monetary score (1,2,3..)\n",
    "- Higher the Monetary value higher  the Monetary score"
   ]
  },
  {
   "cell_type": "code",
   "execution_count": 53,
   "metadata": {},
   "outputs": [
    {
     "data": {
      "text/plain": [
       "count    1.362281e+06\n",
       "mean     6.493858e-01\n",
       "std      1.197582e+00\n",
       "min      7.627119e-04\n",
       "25%      8.806780e-02\n",
       "50%      2.455932e-01\n",
       "75%      7.011864e-01\n",
       "max      5.767641e+01\n",
       "Name: price, dtype: float64"
      ]
     },
     "execution_count": 53,
     "metadata": {},
     "output_type": "execute_result"
    }
   ],
   "source": [
    "tx_revenue = tx_data.groupby('customer_id').price.sum().reset_index()\n",
    "tx_user = pd.merge(tx_user, tx_revenue, on='customer_id')\n",
    "tx_user.price.describe()"
   ]
  },
  {
   "cell_type": "code",
   "execution_count": 54,
   "metadata": {},
   "outputs": [
    {
     "data": {
      "text/html": [
       "<div>\n",
       "<style scoped>\n",
       "    .dataframe tbody tr th:only-of-type {\n",
       "        vertical-align: middle;\n",
       "    }\n",
       "\n",
       "    .dataframe tbody tr th {\n",
       "        vertical-align: top;\n",
       "    }\n",
       "\n",
       "    .dataframe thead th {\n",
       "        text-align: right;\n",
       "    }\n",
       "</style>\n",
       "<table border=\"1\" class=\"dataframe\">\n",
       "  <thead>\n",
       "    <tr style=\"text-align: right;\">\n",
       "      <th></th>\n",
       "      <th>customer_id</th>\n",
       "      <th>Recency</th>\n",
       "      <th>RecencyCluster</th>\n",
       "      <th>Frequency</th>\n",
       "      <th>FrequencyCluster</th>\n",
       "      <th>price</th>\n",
       "    </tr>\n",
       "  </thead>\n",
       "  <tbody>\n",
       "    <tr>\n",
       "      <th>0</th>\n",
       "      <td>1</td>\n",
       "      <td>7</td>\n",
       "      <td>3</td>\n",
       "      <td>18</td>\n",
       "      <td>0</td>\n",
       "      <td>0.704780</td>\n",
       "    </tr>\n",
       "    <tr>\n",
       "      <th>1</th>\n",
       "      <td>25</td>\n",
       "      <td>16</td>\n",
       "      <td>3</td>\n",
       "      <td>17</td>\n",
       "      <td>0</td>\n",
       "      <td>0.872593</td>\n",
       "    </tr>\n",
       "    <tr>\n",
       "      <th>2</th>\n",
       "      <td>30</td>\n",
       "      <td>54</td>\n",
       "      <td>3</td>\n",
       "      <td>16</td>\n",
       "      <td>0</td>\n",
       "      <td>0.456186</td>\n",
       "    </tr>\n",
       "    <tr>\n",
       "      <th>3</th>\n",
       "      <td>34</td>\n",
       "      <td>7</td>\n",
       "      <td>3</td>\n",
       "      <td>16</td>\n",
       "      <td>0</td>\n",
       "      <td>0.410322</td>\n",
       "    </tr>\n",
       "    <tr>\n",
       "      <th>4</th>\n",
       "      <td>37</td>\n",
       "      <td>93</td>\n",
       "      <td>3</td>\n",
       "      <td>24</td>\n",
       "      <td>0</td>\n",
       "      <td>0.729339</td>\n",
       "    </tr>\n",
       "  </tbody>\n",
       "</table>\n",
       "</div>"
      ],
      "text/plain": [
       "   customer_id  Recency  RecencyCluster  Frequency  FrequencyCluster     price\n",
       "0            1        7               3         18                 0  0.704780\n",
       "1           25       16               3         17                 0  0.872593\n",
       "2           30       54               3         16                 0  0.456186\n",
       "3           34        7               3         16                 0  0.410322\n",
       "4           37       93               3         24                 0  0.729339"
      ]
     },
     "execution_count": 54,
     "metadata": {},
     "output_type": "execute_result"
    }
   ],
   "source": [
    "tx_user.head()"
   ]
  },
  {
   "cell_type": "markdown",
   "metadata": {},
   "source": [
    "#### Again running K-means on the total price number and create optimum number of cluster. Then we can align each price total to a score"
   ]
  },
  {
   "cell_type": "code",
   "execution_count": 55,
   "metadata": {},
   "outputs": [
    {
     "data": {
      "image/png": "[encoded data removed]",
      "text/plain": [
       "<Figure size 432x288 with 1 Axes>"
      ]
     },
     "metadata": {
      "needs_background": "light"
     },
     "output_type": "display_data"
    }
   ],
   "source": [
    "sse={}\n",
    "tx_revenue = tx_user[['price']]\n",
    "for k in range(1, 10):\n",
    "    kmeans = KMeans(n_clusters=k, max_iter=1000).fit(tx_revenue)\n",
    "    #tx_revenue[\"clusters\"] = kmeans.labels_\n",
    "    sse[k] = kmeans.inertia_ \n",
    "plt.figure()\n",
    "plt.plot(list(sse.keys()), list(sse.values()))\n",
    "plt.xlabel(\"Number of cluster\")\n",
    "plt.show()"
   ]
  },
  {
   "cell_type": "code",
   "execution_count": 56,
   "metadata": {},
   "outputs": [],
   "source": [
    "kmeans = KMeans(n_clusters=4)\n",
    "kmeans.fit(tx_user[['price']])\n",
    "tx_user['RevenueCluster'] = kmeans.predict(tx_user[['price']])"
   ]
  },
  {
   "cell_type": "code",
   "execution_count": 57,
   "metadata": {},
   "outputs": [],
   "source": [
    "tx_user = order_cluster('RevenueCluster', 'price',tx_user,True)"
   ]
  },
  {
   "cell_type": "code",
   "execution_count": 58,
   "metadata": {},
   "outputs": [
    {
     "data": {
      "text/html": [
       "<div>\n",
       "<style scoped>\n",
       "    .dataframe tbody tr th:only-of-type {\n",
       "        vertical-align: middle;\n",
       "    }\n",
       "\n",
       "    .dataframe tbody tr th {\n",
       "        vertical-align: top;\n",
       "    }\n",
       "\n",
       "    .dataframe thead th {\n",
       "        text-align: right;\n",
       "    }\n",
       "</style>\n",
       "<table border=\"1\" class=\"dataframe\">\n",
       "  <thead>\n",
       "    <tr style=\"text-align: right;\">\n",
       "      <th></th>\n",
       "      <th>count</th>\n",
       "      <th>mean</th>\n",
       "      <th>std</th>\n",
       "      <th>min</th>\n",
       "      <th>25%</th>\n",
       "      <th>50%</th>\n",
       "      <th>75%</th>\n",
       "      <th>max</th>\n",
       "    </tr>\n",
       "    <tr>\n",
       "      <th>RevenueCluster</th>\n",
       "      <th></th>\n",
       "      <th></th>\n",
       "      <th></th>\n",
       "      <th></th>\n",
       "      <th></th>\n",
       "      <th></th>\n",
       "      <th></th>\n",
       "      <th></th>\n",
       "    </tr>\n",
       "  </thead>\n",
       "  <tbody>\n",
       "    <tr>\n",
       "      <th>0</th>\n",
       "      <td>1091711.0</td>\n",
       "      <td>0.247928</td>\n",
       "      <td>0.224974</td>\n",
       "      <td>0.000763</td>\n",
       "      <td>0.068610</td>\n",
       "      <td>0.164797</td>\n",
       "      <td>0.368407</td>\n",
       "      <td>0.899017</td>\n",
       "    </tr>\n",
       "    <tr>\n",
       "      <th>1</th>\n",
       "      <td>214953.0</td>\n",
       "      <td>1.552148</td>\n",
       "      <td>0.525924</td>\n",
       "      <td>0.899034</td>\n",
       "      <td>1.111169</td>\n",
       "      <td>1.413525</td>\n",
       "      <td>1.897186</td>\n",
       "      <td>2.897576</td>\n",
       "    </tr>\n",
       "    <tr>\n",
       "      <th>2</th>\n",
       "      <td>48707.0</td>\n",
       "      <td>4.250057</td>\n",
       "      <td>1.139336</td>\n",
       "      <td>2.897593</td>\n",
       "      <td>3.321907</td>\n",
       "      <td>3.924881</td>\n",
       "      <td>4.932373</td>\n",
       "      <td>7.423254</td>\n",
       "    </tr>\n",
       "    <tr>\n",
       "      <th>3</th>\n",
       "      <td>6910.0</td>\n",
       "      <td>10.612791</td>\n",
       "      <td>3.940668</td>\n",
       "      <td>7.423966</td>\n",
       "      <td>8.206381</td>\n",
       "      <td>9.342881</td>\n",
       "      <td>11.574021</td>\n",
       "      <td>57.676407</td>\n",
       "    </tr>\n",
       "  </tbody>\n",
       "</table>\n",
       "</div>"
      ],
      "text/plain": [
       "                    count       mean       std       min       25%       50%  \\\n",
       "RevenueCluster                                                                 \n",
       "0               1091711.0   0.247928  0.224974  0.000763  0.068610  0.164797   \n",
       "1                214953.0   1.552148  0.525924  0.899034  1.111169  1.413525   \n",
       "2                 48707.0   4.250057  1.139336  2.897593  3.321907  3.924881   \n",
       "3                  6910.0  10.612791  3.940668  7.423966  8.206381  9.342881   \n",
       "\n",
       "                      75%        max  \n",
       "RevenueCluster                        \n",
       "0                0.368407   0.899017  \n",
       "1                1.897186   2.897576  \n",
       "2                4.932373   7.423254  \n",
       "3               11.574021  57.676407  "
      ]
     },
     "execution_count": 58,
     "metadata": {},
     "output_type": "execute_result"
    }
   ],
   "source": [
    "tx_user.groupby('RevenueCluster')['price'].describe()"
   ]
  },
  {
   "cell_type": "markdown",
   "metadata": {},
   "source": [
    "### After calculating the RFM score for each customer , now we will generate some more features\n",
    "#### Here were are cretaing following feature - Given a transaction record for a customer - What were days spent for this transaction and what were the days spent for past other 2 transaction\n",
    "### Following features will be created\n",
    "- DayDiff - For the given transaction date how many days customer took to make this transaction with the store\n",
    "- DayDiff2 - On the same context how many days customer took to make the previous to this transaction \n",
    "- DayDiff3 - One the same context how many days customer took to make the previous to previous to this transaction\n",
    "#### We are going through previous transaction done by customer for a given transaction record. "
   ]
  },
  {
   "cell_type": "markdown",
   "metadata": {},
   "source": [
    "#### For each transaction order keep the customer id and transaction date and sort for each customer id and transaction date. Drop the duplicates"
   ]
  },
  {
   "cell_type": "code",
   "execution_count": 59,
   "metadata": {},
   "outputs": [
    {
     "name": "stderr",
     "output_type": "stream",
     "text": [
      "<ipython-input-59-1cb900ec3fdc>:2: SettingWithCopyWarning: \n",
      "A value is trying to be set on a copy of a slice from a DataFrame.\n",
      "Try using .loc[row_indexer,col_indexer] = value instead\n",
      "\n",
      "See the caveats in the documentation: https://pandas.pydata.org/pandas-docs/stable/user_guide/indexing.html#returning-a-view-versus-a-copy\n",
      "  tx_day_order['InvoiceDay'] = tx_data['t_dat'].dt.date\n"
     ]
    }
   ],
   "source": [
    "tx_day_order = tx_data[['customer_id','t_dat']]\n",
    "tx_day_order['InvoiceDay'] = tx_data['t_dat'].dt.date\n",
    "tx_day_order = tx_day_order.sort_values(['customer_id','t_dat'])\n",
    "tx_day_order = tx_day_order.drop_duplicates(subset=['customer_id','InvoiceDay'],keep='first')"
   ]
  },
  {
   "cell_type": "markdown",
   "metadata": {},
   "source": [
    "#### Now for each customer record Identify Previous 3 transaction dates."
   ]
  },
  {
   "cell_type": "code",
   "execution_count": 60,
   "metadata": {},
   "outputs": [],
   "source": [
    "#shifting last 3 purchase dates\n",
    "tx_day_order['PrevInvoiceDate'] = tx_day_order.groupby('customer_id')['InvoiceDay'].shift(1)\n",
    "tx_day_order['T2InvoiceDate'] = tx_day_order.groupby('customer_id')['InvoiceDay'].shift(2)\n",
    "tx_day_order['T3InvoiceDate'] = tx_day_order.groupby('customer_id')['InvoiceDay'].shift(3)"
   ]
  },
  {
   "cell_type": "markdown",
   "metadata": {},
   "source": [
    "### We are interested in the difference between days\n",
    "### DayDiff is the differnece of days after which customer made the current purchase\n",
    "#### DayDiff2 is difference of days from current to previous to last and Similarly DayDiff3 is diff of current with previous to previous to last"
   ]
  },
  {
   "cell_type": "code",
   "execution_count": 61,
   "metadata": {},
   "outputs": [],
   "source": [
    "tx_day_order['DayDiff'] = (tx_day_order['InvoiceDay'] - tx_day_order['PrevInvoiceDate']).dt.days\n",
    "tx_day_order['DayDiff2'] = (tx_day_order['InvoiceDay'] - tx_day_order['T2InvoiceDate']).dt.days\n",
    "tx_day_order['DayDiff3'] = (tx_day_order['InvoiceDay'] - tx_day_order['T3InvoiceDate']).dt.days"
   ]
  },
  {
   "cell_type": "code",
   "execution_count": 62,
   "metadata": {},
   "outputs": [],
   "source": [
    "tx_day_diff= tx_day_order[['customer_id','DayDiff2', 'DayDiff3','DayDiff']].reset_index()"
   ]
  },
  {
   "cell_type": "markdown",
   "metadata": {},
   "source": [
    "If the customer has not made atleast 4 transactions then we would have na on DayDiff3 or other DayDiff columns. We can simply drop these records"
   ]
  },
  {
   "cell_type": "code",
   "execution_count": 63,
   "metadata": {},
   "outputs": [
    {
     "data": {
      "text/plain": [
       "index                0\n",
       "customer_id          0\n",
       "DayDiff2       2276589\n",
       "DayDiff3       3007781\n",
       "DayDiff        1362281\n",
       "dtype: int64"
      ]
     },
     "execution_count": 63,
     "metadata": {},
     "output_type": "execute_result"
    }
   ],
   "source": [
    "tx_day_diff.isna().sum()"
   ]
  },
  {
   "cell_type": "code",
   "execution_count": null,
   "metadata": {},
   "outputs": [],
   "source": []
  },
  {
   "cell_type": "code",
   "execution_count": 64,
   "metadata": {},
   "outputs": [
    {
     "data": {
      "text/plain": [
       "(9080179, 5)"
      ]
     },
     "execution_count": 64,
     "metadata": {},
     "output_type": "execute_result"
    }
   ],
   "source": [
    "tx_day_diff.shape"
   ]
  },
  {
   "cell_type": "code",
   "execution_count": 65,
   "metadata": {},
   "outputs": [
    {
     "data": {
      "text/plain": [
       "(6072398, 5)"
      ]
     },
     "execution_count": 65,
     "metadata": {},
     "output_type": "execute_result"
    }
   ],
   "source": [
    "tx_day_diff.dropna().shape"
   ]
  },
  {
   "cell_type": "code",
   "execution_count": 66,
   "metadata": {},
   "outputs": [],
   "source": [
    "tx_day_diff=tx_day_diff.dropna()\n"
   ]
  },
  {
   "cell_type": "code",
   "execution_count": 67,
   "metadata": {},
   "outputs": [
    {
     "data": {
      "text/plain": [
       "index          0\n",
       "customer_id    0\n",
       "DayDiff2       0\n",
       "DayDiff3       0\n",
       "DayDiff        0\n",
       "dtype: int64"
      ]
     },
     "execution_count": 67,
     "metadata": {},
     "output_type": "execute_result"
    }
   ],
   "source": [
    "tx_day_diff.isna().sum()"
   ]
  },
  {
   "cell_type": "code",
   "execution_count": 68,
   "metadata": {},
   "outputs": [
    {
     "data": {
      "text/plain": [
       "Index(['index', 'customer_id', 'DayDiff2', 'DayDiff3', 'DayDiff'], dtype='object')"
      ]
     },
     "execution_count": 68,
     "metadata": {},
     "output_type": "execute_result"
    }
   ],
   "source": [
    "tx_day_diff.columns"
   ]
  },
  {
   "cell_type": "markdown",
   "metadata": {},
   "source": [
    "### Lets merge this DayDiff columns with the user data"
   ]
  },
  {
   "cell_type": "code",
   "execution_count": 69,
   "metadata": {},
   "outputs": [],
   "source": [
    "tx_user = pd.merge(tx_user, tx_day_diff[['customer_id','DayDiff','DayDiff2','DayDiff3']], on='customer_id')\n"
   ]
  },
  {
   "cell_type": "code",
   "execution_count": 70,
   "metadata": {},
   "outputs": [
    {
     "data": {
      "text/plain": [
       "Index(['customer_id', 'Recency', 'RecencyCluster', 'Frequency',\n",
       "       'FrequencyCluster', 'price', 'RevenueCluster', 'DayDiff', 'DayDiff2',\n",
       "       'DayDiff3'],\n",
       "      dtype='object')"
      ]
     },
     "execution_count": 70,
     "metadata": {},
     "output_type": "execute_result"
    }
   ],
   "source": [
    "tx_user.columns\n"
   ]
  },
  {
   "cell_type": "code",
   "execution_count": 71,
   "metadata": {},
   "outputs": [
    {
     "data": {
      "text/plain": [
       "customer_id         0\n",
       "Recency             0\n",
       "RecencyCluster      0\n",
       "Frequency           0\n",
       "FrequencyCluster    0\n",
       "price               0\n",
       "RevenueCluster      0\n",
       "DayDiff             0\n",
       "DayDiff2            0\n",
       "DayDiff3            0\n",
       "dtype: int64"
      ]
     },
     "execution_count": 71,
     "metadata": {},
     "output_type": "execute_result"
    }
   ],
   "source": [
    "tx_user.isna().sum()"
   ]
  },
  {
   "cell_type": "markdown",
   "metadata": {},
   "source": [
    "### lets drop the correlated columns. since we calculated the score against the Recency, Frequency and price already we dont need this columns as they are now corelated"
   ]
  },
  {
   "cell_type": "code",
   "execution_count": 72,
   "metadata": {},
   "outputs": [],
   "source": [
    "columnsToDrop=['Recency','Frequency','price']"
   ]
  },
  {
   "cell_type": "code",
   "execution_count": 73,
   "metadata": {},
   "outputs": [],
   "source": [
    "tx_user=tx_user.drop(columnsToDrop,axis=1)"
   ]
  },
  {
   "cell_type": "markdown",
   "metadata": {},
   "source": [
    "#### previously we had collected the user metadata. We can merge this data with tx_user. Lets name the new data set as cust_attributes."
   ]
  },
  {
   "cell_type": "code",
   "execution_count": 74,
   "metadata": {},
   "outputs": [],
   "source": [
    "cust_attributes = pd.merge(tx_user, df_cust, on='customer_id')\n",
    "#cust_attributes=cust_attributes.drop('customer_id',axis=1)"
   ]
  },
  {
   "cell_type": "code",
   "execution_count": 75,
   "metadata": {},
   "outputs": [
    {
     "data": {
      "text/html": [
       "<div>\n",
       "<style scoped>\n",
       "    .dataframe tbody tr th:only-of-type {\n",
       "        vertical-align: middle;\n",
       "    }\n",
       "\n",
       "    .dataframe tbody tr th {\n",
       "        vertical-align: top;\n",
       "    }\n",
       "\n",
       "    .dataframe thead th {\n",
       "        text-align: right;\n",
       "    }\n",
       "</style>\n",
       "<table border=\"1\" class=\"dataframe\">\n",
       "  <thead>\n",
       "    <tr style=\"text-align: right;\">\n",
       "      <th></th>\n",
       "      <th>customer_id</th>\n",
       "      <th>RecencyCluster</th>\n",
       "      <th>FrequencyCluster</th>\n",
       "      <th>RevenueCluster</th>\n",
       "      <th>DayDiff</th>\n",
       "      <th>DayDiff2</th>\n",
       "      <th>DayDiff3</th>\n",
       "      <th>age</th>\n",
       "      <th>status</th>\n",
       "      <th>club_member_status_ACTIVE</th>\n",
       "      <th>club_member_status_LEFT CLUB</th>\n",
       "      <th>club_member_status_PRE-CREATE</th>\n",
       "      <th>fashion_news_frequency_Monthly</th>\n",
       "      <th>fashion_news_frequency_NONE</th>\n",
       "      <th>fashion_news_frequency_Regularly</th>\n",
       "    </tr>\n",
       "  </thead>\n",
       "  <tbody>\n",
       "    <tr>\n",
       "      <th>0</th>\n",
       "      <td>1</td>\n",
       "      <td>3</td>\n",
       "      <td>0</td>\n",
       "      <td>0</td>\n",
       "      <td>339.0</td>\n",
       "      <td>497.0</td>\n",
       "      <td>501.0</td>\n",
       "      <td>24.0</td>\n",
       "      <td>0.0</td>\n",
       "      <td>1</td>\n",
       "      <td>0</td>\n",
       "      <td>0</td>\n",
       "      <td>0</td>\n",
       "      <td>1</td>\n",
       "      <td>0</td>\n",
       "    </tr>\n",
       "    <tr>\n",
       "      <th>1</th>\n",
       "      <td>1</td>\n",
       "      <td>3</td>\n",
       "      <td>0</td>\n",
       "      <td>0</td>\n",
       "      <td>58.0</td>\n",
       "      <td>397.0</td>\n",
       "      <td>555.0</td>\n",
       "      <td>24.0</td>\n",
       "      <td>0.0</td>\n",
       "      <td>1</td>\n",
       "      <td>0</td>\n",
       "      <td>0</td>\n",
       "      <td>0</td>\n",
       "      <td>1</td>\n",
       "      <td>0</td>\n",
       "    </tr>\n",
       "    <tr>\n",
       "      <th>2</th>\n",
       "      <td>1</td>\n",
       "      <td>3</td>\n",
       "      <td>0</td>\n",
       "      <td>0</td>\n",
       "      <td>17.0</td>\n",
       "      <td>75.0</td>\n",
       "      <td>414.0</td>\n",
       "      <td>24.0</td>\n",
       "      <td>0.0</td>\n",
       "      <td>1</td>\n",
       "      <td>0</td>\n",
       "      <td>0</td>\n",
       "      <td>0</td>\n",
       "      <td>1</td>\n",
       "      <td>0</td>\n",
       "    </tr>\n",
       "    <tr>\n",
       "      <th>3</th>\n",
       "      <td>1</td>\n",
       "      <td>3</td>\n",
       "      <td>0</td>\n",
       "      <td>0</td>\n",
       "      <td>150.0</td>\n",
       "      <td>167.0</td>\n",
       "      <td>225.0</td>\n",
       "      <td>24.0</td>\n",
       "      <td>0.0</td>\n",
       "      <td>1</td>\n",
       "      <td>0</td>\n",
       "      <td>0</td>\n",
       "      <td>0</td>\n",
       "      <td>1</td>\n",
       "      <td>0</td>\n",
       "    </tr>\n",
       "    <tr>\n",
       "      <th>4</th>\n",
       "      <td>25</td>\n",
       "      <td>3</td>\n",
       "      <td>0</td>\n",
       "      <td>0</td>\n",
       "      <td>87.0</td>\n",
       "      <td>122.0</td>\n",
       "      <td>216.0</td>\n",
       "      <td>23.0</td>\n",
       "      <td>1.0</td>\n",
       "      <td>1</td>\n",
       "      <td>0</td>\n",
       "      <td>0</td>\n",
       "      <td>0</td>\n",
       "      <td>0</td>\n",
       "      <td>1</td>\n",
       "    </tr>\n",
       "    <tr>\n",
       "      <th>...</th>\n",
       "      <td>...</td>\n",
       "      <td>...</td>\n",
       "      <td>...</td>\n",
       "      <td>...</td>\n",
       "      <td>...</td>\n",
       "      <td>...</td>\n",
       "      <td>...</td>\n",
       "      <td>...</td>\n",
       "      <td>...</td>\n",
       "      <td>...</td>\n",
       "      <td>...</td>\n",
       "      <td>...</td>\n",
       "      <td>...</td>\n",
       "      <td>...</td>\n",
       "      <td>...</td>\n",
       "    </tr>\n",
       "    <tr>\n",
       "      <th>6072393</th>\n",
       "      <td>559818</td>\n",
       "      <td>1</td>\n",
       "      <td>3</td>\n",
       "      <td>3</td>\n",
       "      <td>1.0</td>\n",
       "      <td>5.0</td>\n",
       "      <td>10.0</td>\n",
       "      <td>64.0</td>\n",
       "      <td>1.0</td>\n",
       "      <td>1</td>\n",
       "      <td>0</td>\n",
       "      <td>0</td>\n",
       "      <td>0</td>\n",
       "      <td>0</td>\n",
       "      <td>1</td>\n",
       "    </tr>\n",
       "    <tr>\n",
       "      <th>6072394</th>\n",
       "      <td>559818</td>\n",
       "      <td>1</td>\n",
       "      <td>3</td>\n",
       "      <td>3</td>\n",
       "      <td>3.0</td>\n",
       "      <td>4.0</td>\n",
       "      <td>8.0</td>\n",
       "      <td>64.0</td>\n",
       "      <td>1.0</td>\n",
       "      <td>1</td>\n",
       "      <td>0</td>\n",
       "      <td>0</td>\n",
       "      <td>0</td>\n",
       "      <td>0</td>\n",
       "      <td>1</td>\n",
       "    </tr>\n",
       "    <tr>\n",
       "      <th>6072395</th>\n",
       "      <td>559818</td>\n",
       "      <td>1</td>\n",
       "      <td>3</td>\n",
       "      <td>3</td>\n",
       "      <td>3.0</td>\n",
       "      <td>6.0</td>\n",
       "      <td>7.0</td>\n",
       "      <td>64.0</td>\n",
       "      <td>1.0</td>\n",
       "      <td>1</td>\n",
       "      <td>0</td>\n",
       "      <td>0</td>\n",
       "      <td>0</td>\n",
       "      <td>0</td>\n",
       "      <td>1</td>\n",
       "    </tr>\n",
       "    <tr>\n",
       "      <th>6072396</th>\n",
       "      <td>559818</td>\n",
       "      <td>1</td>\n",
       "      <td>3</td>\n",
       "      <td>3</td>\n",
       "      <td>1.0</td>\n",
       "      <td>4.0</td>\n",
       "      <td>7.0</td>\n",
       "      <td>64.0</td>\n",
       "      <td>1.0</td>\n",
       "      <td>1</td>\n",
       "      <td>0</td>\n",
       "      <td>0</td>\n",
       "      <td>0</td>\n",
       "      <td>0</td>\n",
       "      <td>1</td>\n",
       "    </tr>\n",
       "    <tr>\n",
       "      <th>6072397</th>\n",
       "      <td>559818</td>\n",
       "      <td>1</td>\n",
       "      <td>3</td>\n",
       "      <td>3</td>\n",
       "      <td>59.0</td>\n",
       "      <td>60.0</td>\n",
       "      <td>63.0</td>\n",
       "      <td>64.0</td>\n",
       "      <td>1.0</td>\n",
       "      <td>1</td>\n",
       "      <td>0</td>\n",
       "      <td>0</td>\n",
       "      <td>0</td>\n",
       "      <td>0</td>\n",
       "      <td>1</td>\n",
       "    </tr>\n",
       "  </tbody>\n",
       "</table>\n",
       "<p>6072398 rows × 15 columns</p>\n",
       "</div>"
      ],
      "text/plain": [
       "         customer_id  RecencyCluster  FrequencyCluster  RevenueCluster  \\\n",
       "0                  1               3                 0               0   \n",
       "1                  1               3                 0               0   \n",
       "2                  1               3                 0               0   \n",
       "3                  1               3                 0               0   \n",
       "4                 25               3                 0               0   \n",
       "...              ...             ...               ...             ...   \n",
       "6072393       559818               1                 3               3   \n",
       "6072394       559818               1                 3               3   \n",
       "6072395       559818               1                 3               3   \n",
       "6072396       559818               1                 3               3   \n",
       "6072397       559818               1                 3               3   \n",
       "\n",
       "         DayDiff  DayDiff2  DayDiff3   age  status  club_member_status_ACTIVE  \\\n",
       "0          339.0     497.0     501.0  24.0     0.0                          1   \n",
       "1           58.0     397.0     555.0  24.0     0.0                          1   \n",
       "2           17.0      75.0     414.0  24.0     0.0                          1   \n",
       "3          150.0     167.0     225.0  24.0     0.0                          1   \n",
       "4           87.0     122.0     216.0  23.0     1.0                          1   \n",
       "...          ...       ...       ...   ...     ...                        ...   \n",
       "6072393      1.0       5.0      10.0  64.0     1.0                          1   \n",
       "6072394      3.0       4.0       8.0  64.0     1.0                          1   \n",
       "6072395      3.0       6.0       7.0  64.0     1.0                          1   \n",
       "6072396      1.0       4.0       7.0  64.0     1.0                          1   \n",
       "6072397     59.0      60.0      63.0  64.0     1.0                          1   \n",
       "\n",
       "         club_member_status_LEFT CLUB  club_member_status_PRE-CREATE  \\\n",
       "0                                   0                              0   \n",
       "1                                   0                              0   \n",
       "2                                   0                              0   \n",
       "3                                   0                              0   \n",
       "4                                   0                              0   \n",
       "...                               ...                            ...   \n",
       "6072393                             0                              0   \n",
       "6072394                             0                              0   \n",
       "6072395                             0                              0   \n",
       "6072396                             0                              0   \n",
       "6072397                             0                              0   \n",
       "\n",
       "         fashion_news_frequency_Monthly  fashion_news_frequency_NONE  \\\n",
       "0                                     0                            1   \n",
       "1                                     0                            1   \n",
       "2                                     0                            1   \n",
       "3                                     0                            1   \n",
       "4                                     0                            0   \n",
       "...                                 ...                          ...   \n",
       "6072393                               0                            0   \n",
       "6072394                               0                            0   \n",
       "6072395                               0                            0   \n",
       "6072396                               0                            0   \n",
       "6072397                               0                            0   \n",
       "\n",
       "         fashion_news_frequency_Regularly  \n",
       "0                                       0  \n",
       "1                                       0  \n",
       "2                                       0  \n",
       "3                                       0  \n",
       "4                                       1  \n",
       "...                                   ...  \n",
       "6072393                                 1  \n",
       "6072394                                 1  \n",
       "6072395                                 1  \n",
       "6072396                                 1  \n",
       "6072397                                 1  \n",
       "\n",
       "[6072398 rows x 15 columns]"
      ]
     },
     "execution_count": 75,
     "metadata": {},
     "output_type": "execute_result"
    }
   ],
   "source": [
    "cust_attributes"
   ]
  },
  {
   "cell_type": "code",
   "execution_count": 76,
   "metadata": {},
   "outputs": [
    {
     "data": {
      "text/plain": [
       "customer_id                         0\n",
       "RecencyCluster                      0\n",
       "FrequencyCluster                    0\n",
       "RevenueCluster                      0\n",
       "DayDiff                             0\n",
       "DayDiff2                            0\n",
       "DayDiff3                            0\n",
       "age                                 0\n",
       "status                              0\n",
       "club_member_status_ACTIVE           0\n",
       "club_member_status_LEFT CLUB        0\n",
       "club_member_status_PRE-CREATE       0\n",
       "fashion_news_frequency_Monthly      0\n",
       "fashion_news_frequency_NONE         0\n",
       "fashion_news_frequency_Regularly    0\n",
       "dtype: int64"
      ]
     },
     "execution_count": 76,
     "metadata": {},
     "output_type": "execute_result"
    }
   ],
   "source": [
    "cust_attributes.isna().sum()"
   ]
  },
  {
   "cell_type": "code",
   "execution_count": 77,
   "metadata": {},
   "outputs": [
    {
     "data": {
      "text/html": [
       "<div>\n",
       "<style scoped>\n",
       "    .dataframe tbody tr th:only-of-type {\n",
       "        vertical-align: middle;\n",
       "    }\n",
       "\n",
       "    .dataframe tbody tr th {\n",
       "        vertical-align: top;\n",
       "    }\n",
       "\n",
       "    .dataframe thead th {\n",
       "        text-align: right;\n",
       "    }\n",
       "</style>\n",
       "<table border=\"1\" class=\"dataframe\">\n",
       "  <thead>\n",
       "    <tr style=\"text-align: right;\">\n",
       "      <th></th>\n",
       "      <th>customer_id</th>\n",
       "      <th>RecencyCluster</th>\n",
       "      <th>FrequencyCluster</th>\n",
       "      <th>RevenueCluster</th>\n",
       "      <th>DayDiff</th>\n",
       "      <th>DayDiff2</th>\n",
       "      <th>DayDiff3</th>\n",
       "      <th>age</th>\n",
       "      <th>status</th>\n",
       "      <th>club_member_status_ACTIVE</th>\n",
       "      <th>club_member_status_LEFT CLUB</th>\n",
       "      <th>club_member_status_PRE-CREATE</th>\n",
       "      <th>fashion_news_frequency_Monthly</th>\n",
       "      <th>fashion_news_frequency_NONE</th>\n",
       "      <th>fashion_news_frequency_Regularly</th>\n",
       "    </tr>\n",
       "  </thead>\n",
       "  <tbody>\n",
       "    <tr>\n",
       "      <th>0</th>\n",
       "      <td>1</td>\n",
       "      <td>3</td>\n",
       "      <td>0</td>\n",
       "      <td>0</td>\n",
       "      <td>339.0</td>\n",
       "      <td>497.0</td>\n",
       "      <td>501.0</td>\n",
       "      <td>24.0</td>\n",
       "      <td>0.0</td>\n",
       "      <td>1</td>\n",
       "      <td>0</td>\n",
       "      <td>0</td>\n",
       "      <td>0</td>\n",
       "      <td>1</td>\n",
       "      <td>0</td>\n",
       "    </tr>\n",
       "    <tr>\n",
       "      <th>1</th>\n",
       "      <td>1</td>\n",
       "      <td>3</td>\n",
       "      <td>0</td>\n",
       "      <td>0</td>\n",
       "      <td>58.0</td>\n",
       "      <td>397.0</td>\n",
       "      <td>555.0</td>\n",
       "      <td>24.0</td>\n",
       "      <td>0.0</td>\n",
       "      <td>1</td>\n",
       "      <td>0</td>\n",
       "      <td>0</td>\n",
       "      <td>0</td>\n",
       "      <td>1</td>\n",
       "      <td>0</td>\n",
       "    </tr>\n",
       "    <tr>\n",
       "      <th>2</th>\n",
       "      <td>1</td>\n",
       "      <td>3</td>\n",
       "      <td>0</td>\n",
       "      <td>0</td>\n",
       "      <td>17.0</td>\n",
       "      <td>75.0</td>\n",
       "      <td>414.0</td>\n",
       "      <td>24.0</td>\n",
       "      <td>0.0</td>\n",
       "      <td>1</td>\n",
       "      <td>0</td>\n",
       "      <td>0</td>\n",
       "      <td>0</td>\n",
       "      <td>1</td>\n",
       "      <td>0</td>\n",
       "    </tr>\n",
       "    <tr>\n",
       "      <th>3</th>\n",
       "      <td>1</td>\n",
       "      <td>3</td>\n",
       "      <td>0</td>\n",
       "      <td>0</td>\n",
       "      <td>150.0</td>\n",
       "      <td>167.0</td>\n",
       "      <td>225.0</td>\n",
       "      <td>24.0</td>\n",
       "      <td>0.0</td>\n",
       "      <td>1</td>\n",
       "      <td>0</td>\n",
       "      <td>0</td>\n",
       "      <td>0</td>\n",
       "      <td>1</td>\n",
       "      <td>0</td>\n",
       "    </tr>\n",
       "    <tr>\n",
       "      <th>4</th>\n",
       "      <td>25</td>\n",
       "      <td>3</td>\n",
       "      <td>0</td>\n",
       "      <td>0</td>\n",
       "      <td>87.0</td>\n",
       "      <td>122.0</td>\n",
       "      <td>216.0</td>\n",
       "      <td>23.0</td>\n",
       "      <td>1.0</td>\n",
       "      <td>1</td>\n",
       "      <td>0</td>\n",
       "      <td>0</td>\n",
       "      <td>0</td>\n",
       "      <td>0</td>\n",
       "      <td>1</td>\n",
       "    </tr>\n",
       "  </tbody>\n",
       "</table>\n",
       "</div>"
      ],
      "text/plain": [
       "   customer_id  RecencyCluster  FrequencyCluster  RevenueCluster  DayDiff  \\\n",
       "0            1               3                 0               0    339.0   \n",
       "1            1               3                 0               0     58.0   \n",
       "2            1               3                 0               0     17.0   \n",
       "3            1               3                 0               0    150.0   \n",
       "4           25               3                 0               0     87.0   \n",
       "\n",
       "   DayDiff2  DayDiff3   age  status  club_member_status_ACTIVE  \\\n",
       "0     497.0     501.0  24.0     0.0                          1   \n",
       "1     397.0     555.0  24.0     0.0                          1   \n",
       "2      75.0     414.0  24.0     0.0                          1   \n",
       "3     167.0     225.0  24.0     0.0                          1   \n",
       "4     122.0     216.0  23.0     1.0                          1   \n",
       "\n",
       "   club_member_status_LEFT CLUB  club_member_status_PRE-CREATE  \\\n",
       "0                             0                              0   \n",
       "1                             0                              0   \n",
       "2                             0                              0   \n",
       "3                             0                              0   \n",
       "4                             0                              0   \n",
       "\n",
       "   fashion_news_frequency_Monthly  fashion_news_frequency_NONE  \\\n",
       "0                               0                            1   \n",
       "1                               0                            1   \n",
       "2                               0                            1   \n",
       "3                               0                            1   \n",
       "4                               0                            0   \n",
       "\n",
       "   fashion_news_frequency_Regularly  \n",
       "0                                 0  \n",
       "1                                 0  \n",
       "2                                 0  \n",
       "3                                 0  \n",
       "4                                 1  "
      ]
     },
     "execution_count": 77,
     "metadata": {},
     "output_type": "execute_result"
    }
   ],
   "source": [
    "cust_attributes.head()"
   ]
  },
  {
   "cell_type": "markdown",
   "metadata": {},
   "source": [
    "Lets describe the columns\n",
    "- customer_id - Unique id for customer\n",
    "- Recencycluster - Recency score\n",
    "- FrequencyCluster - Frequency Score\n",
    "- RevenueCluster - Monetary score\n",
    "- DayDiff - Diff in days customer took to make current transaction\n",
    "- DayDiff2 - Diff in days customer took to make previous tx\n",
    "- DayDiff3 - Diff in days customer took to make previous to previous tx\n",
    "- age - age of customer\n",
    "- status - Whether customer is active member r not\n",
    "- club)member_status_* - club membership status categorical value\n",
    "- fashion_news_frequency_* - frequency of fashion news subscription - categorical"
   ]
  },
  {
   "cell_type": "markdown",
   "metadata": {},
   "source": [
    "#### Here DayDiff becomes our target column. We can interpret this in a way that Given some customer attributes like RFM scores, age, statuses, membership status, difference of days of last 2 transactions, what will be the next number of days that customer is likely to purchase (In our case that lebel is DayDiff)\n",
    "\n",
    "#### But instead of identifying as Regression problem we can also consider this as a classification problem and identify label , if DayDiff is <=7 then label is 1 otherwise 0. So the model will try to learn and predict this label\n",
    "\n",
    "#### lets call the label as CustomerBuyNext7Days"
   ]
  },
  {
   "cell_type": "code",
   "execution_count": 78,
   "metadata": {},
   "outputs": [],
   "source": [
    "cust_attributes['CustomerBuyNext7days'] = 1\n",
    "cust_attributes.loc[cust_attributes.DayDiff>7,'CustomerBuyNext7days'] = 0\n"
   ]
  },
  {
   "cell_type": "markdown",
   "metadata": {},
   "source": [
    "#### Lets see the distribution of the labels"
   ]
  },
  {
   "cell_type": "code",
   "execution_count": 79,
   "metadata": {},
   "outputs": [
    {
     "data": {
      "text/plain": [
       "0    0.715902\n",
       "1    0.284098\n",
       "Name: CustomerBuyNext7days, dtype: float64"
      ]
     },
     "execution_count": 79,
     "metadata": {},
     "output_type": "execute_result"
    }
   ],
   "source": [
    "cust_attributes.CustomerBuyNext7days.value_counts()/len(cust_attributes)"
   ]
  },
  {
   "cell_type": "markdown",
   "metadata": {},
   "source": [
    "#### We dont need the DayDiff column anymore"
   ]
  },
  {
   "cell_type": "code",
   "execution_count": 80,
   "metadata": {},
   "outputs": [],
   "source": [
    "cust_attributes=cust_attributes.drop('DayDiff',axis=1)"
   ]
  },
  {
   "cell_type": "markdown",
   "metadata": {},
   "source": [
    "#### lets see correlation of multiple attributes of the data"
   ]
  },
  {
   "cell_type": "code",
   "execution_count": 81,
   "metadata": {},
   "outputs": [
    {
     "data": {
      "text/plain": [
       "<AxesSubplot:>"
      ]
     },
     "execution_count": 81,
     "metadata": {},
     "output_type": "execute_result"
    },
    {
     "data": {
      "image/png": "[encoded data removed]",
      "text/plain": [
       "<Figure size 2160x1440 with 2 Axes>"
      ]
     },
     "metadata": {
      "needs_background": "light"
     },
     "output_type": "display_data"
    }
   ],
   "source": [
    "import seaborn as sns\n",
    "corr = cust_attributes[cust_attributes.columns].corr()\n",
    "plt.figure(figsize = (30,20))\n",
    "sns.heatmap(corr, annot = True, linewidths=0.2, fmt=\".2f\")"
   ]
  },
  {
   "cell_type": "markdown",
   "metadata": {},
   "source": [
    "#### We can drop fashion_news_frequencyz-none as it is redundant ansd highly corelated, as well as club_memeber_status_pre_create"
   ]
  },
  {
   "cell_type": "code",
   "execution_count": 82,
   "metadata": {},
   "outputs": [],
   "source": [
    "cust_attributes=cust_attributes.drop(['fashion_news_frequency_NONE','club_member_status_PRE-CREATE'],axis=1)"
   ]
  },
  {
   "cell_type": "markdown",
   "metadata": {},
   "source": [
    "#### Split dataset using sklearn train_test_split"
   ]
  },
  {
   "cell_type": "code",
   "execution_count": 83,
   "metadata": {},
   "outputs": [],
   "source": [
    "from sklearn.model_selection import KFold, cross_val_score, train_test_split"
   ]
  },
  {
   "cell_type": "code",
   "execution_count": 84,
   "metadata": {},
   "outputs": [],
   "source": [
    "X, y = cust_attributes.drop('CustomerBuyNext7days',axis=1), cust_attributes.CustomerBuyNext7days"
   ]
  },
  {
   "cell_type": "code",
   "execution_count": 85,
   "metadata": {},
   "outputs": [
    {
     "data": {
      "text/html": [
       "<div>\n",
       "<style scoped>\n",
       "    .dataframe tbody tr th:only-of-type {\n",
       "        vertical-align: middle;\n",
       "    }\n",
       "\n",
       "    .dataframe tbody tr th {\n",
       "        vertical-align: top;\n",
       "    }\n",
       "\n",
       "    .dataframe thead th {\n",
       "        text-align: right;\n",
       "    }\n",
       "</style>\n",
       "<table border=\"1\" class=\"dataframe\">\n",
       "  <thead>\n",
       "    <tr style=\"text-align: right;\">\n",
       "      <th></th>\n",
       "      <th>customer_id</th>\n",
       "      <th>RecencyCluster</th>\n",
       "      <th>FrequencyCluster</th>\n",
       "      <th>RevenueCluster</th>\n",
       "      <th>DayDiff2</th>\n",
       "      <th>DayDiff3</th>\n",
       "      <th>age</th>\n",
       "      <th>status</th>\n",
       "      <th>club_member_status_ACTIVE</th>\n",
       "      <th>club_member_status_LEFT CLUB</th>\n",
       "      <th>fashion_news_frequency_Monthly</th>\n",
       "      <th>fashion_news_frequency_Regularly</th>\n",
       "    </tr>\n",
       "  </thead>\n",
       "  <tbody>\n",
       "    <tr>\n",
       "      <th>0</th>\n",
       "      <td>1</td>\n",
       "      <td>3</td>\n",
       "      <td>0</td>\n",
       "      <td>0</td>\n",
       "      <td>497.0</td>\n",
       "      <td>501.0</td>\n",
       "      <td>24.0</td>\n",
       "      <td>0.0</td>\n",
       "      <td>1</td>\n",
       "      <td>0</td>\n",
       "      <td>0</td>\n",
       "      <td>0</td>\n",
       "    </tr>\n",
       "    <tr>\n",
       "      <th>1</th>\n",
       "      <td>1</td>\n",
       "      <td>3</td>\n",
       "      <td>0</td>\n",
       "      <td>0</td>\n",
       "      <td>397.0</td>\n",
       "      <td>555.0</td>\n",
       "      <td>24.0</td>\n",
       "      <td>0.0</td>\n",
       "      <td>1</td>\n",
       "      <td>0</td>\n",
       "      <td>0</td>\n",
       "      <td>0</td>\n",
       "    </tr>\n",
       "    <tr>\n",
       "      <th>2</th>\n",
       "      <td>1</td>\n",
       "      <td>3</td>\n",
       "      <td>0</td>\n",
       "      <td>0</td>\n",
       "      <td>75.0</td>\n",
       "      <td>414.0</td>\n",
       "      <td>24.0</td>\n",
       "      <td>0.0</td>\n",
       "      <td>1</td>\n",
       "      <td>0</td>\n",
       "      <td>0</td>\n",
       "      <td>0</td>\n",
       "    </tr>\n",
       "    <tr>\n",
       "      <th>3</th>\n",
       "      <td>1</td>\n",
       "      <td>3</td>\n",
       "      <td>0</td>\n",
       "      <td>0</td>\n",
       "      <td>167.0</td>\n",
       "      <td>225.0</td>\n",
       "      <td>24.0</td>\n",
       "      <td>0.0</td>\n",
       "      <td>1</td>\n",
       "      <td>0</td>\n",
       "      <td>0</td>\n",
       "      <td>0</td>\n",
       "    </tr>\n",
       "    <tr>\n",
       "      <th>4</th>\n",
       "      <td>25</td>\n",
       "      <td>3</td>\n",
       "      <td>0</td>\n",
       "      <td>0</td>\n",
       "      <td>122.0</td>\n",
       "      <td>216.0</td>\n",
       "      <td>23.0</td>\n",
       "      <td>1.0</td>\n",
       "      <td>1</td>\n",
       "      <td>0</td>\n",
       "      <td>0</td>\n",
       "      <td>1</td>\n",
       "    </tr>\n",
       "    <tr>\n",
       "      <th>...</th>\n",
       "      <td>...</td>\n",
       "      <td>...</td>\n",
       "      <td>...</td>\n",
       "      <td>...</td>\n",
       "      <td>...</td>\n",
       "      <td>...</td>\n",
       "      <td>...</td>\n",
       "      <td>...</td>\n",
       "      <td>...</td>\n",
       "      <td>...</td>\n",
       "      <td>...</td>\n",
       "      <td>...</td>\n",
       "    </tr>\n",
       "    <tr>\n",
       "      <th>6072393</th>\n",
       "      <td>559818</td>\n",
       "      <td>1</td>\n",
       "      <td>3</td>\n",
       "      <td>3</td>\n",
       "      <td>5.0</td>\n",
       "      <td>10.0</td>\n",
       "      <td>64.0</td>\n",
       "      <td>1.0</td>\n",
       "      <td>1</td>\n",
       "      <td>0</td>\n",
       "      <td>0</td>\n",
       "      <td>1</td>\n",
       "    </tr>\n",
       "    <tr>\n",
       "      <th>6072394</th>\n",
       "      <td>559818</td>\n",
       "      <td>1</td>\n",
       "      <td>3</td>\n",
       "      <td>3</td>\n",
       "      <td>4.0</td>\n",
       "      <td>8.0</td>\n",
       "      <td>64.0</td>\n",
       "      <td>1.0</td>\n",
       "      <td>1</td>\n",
       "      <td>0</td>\n",
       "      <td>0</td>\n",
       "      <td>1</td>\n",
       "    </tr>\n",
       "    <tr>\n",
       "      <th>6072395</th>\n",
       "      <td>559818</td>\n",
       "      <td>1</td>\n",
       "      <td>3</td>\n",
       "      <td>3</td>\n",
       "      <td>6.0</td>\n",
       "      <td>7.0</td>\n",
       "      <td>64.0</td>\n",
       "      <td>1.0</td>\n",
       "      <td>1</td>\n",
       "      <td>0</td>\n",
       "      <td>0</td>\n",
       "      <td>1</td>\n",
       "    </tr>\n",
       "    <tr>\n",
       "      <th>6072396</th>\n",
       "      <td>559818</td>\n",
       "      <td>1</td>\n",
       "      <td>3</td>\n",
       "      <td>3</td>\n",
       "      <td>4.0</td>\n",
       "      <td>7.0</td>\n",
       "      <td>64.0</td>\n",
       "      <td>1.0</td>\n",
       "      <td>1</td>\n",
       "      <td>0</td>\n",
       "      <td>0</td>\n",
       "      <td>1</td>\n",
       "    </tr>\n",
       "    <tr>\n",
       "      <th>6072397</th>\n",
       "      <td>559818</td>\n",
       "      <td>1</td>\n",
       "      <td>3</td>\n",
       "      <td>3</td>\n",
       "      <td>60.0</td>\n",
       "      <td>63.0</td>\n",
       "      <td>64.0</td>\n",
       "      <td>1.0</td>\n",
       "      <td>1</td>\n",
       "      <td>0</td>\n",
       "      <td>0</td>\n",
       "      <td>1</td>\n",
       "    </tr>\n",
       "  </tbody>\n",
       "</table>\n",
       "<p>6072398 rows × 12 columns</p>\n",
       "</div>"
      ],
      "text/plain": [
       "         customer_id  RecencyCluster  FrequencyCluster  RevenueCluster  \\\n",
       "0                  1               3                 0               0   \n",
       "1                  1               3                 0               0   \n",
       "2                  1               3                 0               0   \n",
       "3                  1               3                 0               0   \n",
       "4                 25               3                 0               0   \n",
       "...              ...             ...               ...             ...   \n",
       "6072393       559818               1                 3               3   \n",
       "6072394       559818               1                 3               3   \n",
       "6072395       559818               1                 3               3   \n",
       "6072396       559818               1                 3               3   \n",
       "6072397       559818               1                 3               3   \n",
       "\n",
       "         DayDiff2  DayDiff3   age  status  club_member_status_ACTIVE  \\\n",
       "0           497.0     501.0  24.0     0.0                          1   \n",
       "1           397.0     555.0  24.0     0.0                          1   \n",
       "2            75.0     414.0  24.0     0.0                          1   \n",
       "3           167.0     225.0  24.0     0.0                          1   \n",
       "4           122.0     216.0  23.0     1.0                          1   \n",
       "...           ...       ...   ...     ...                        ...   \n",
       "6072393       5.0      10.0  64.0     1.0                          1   \n",
       "6072394       4.0       8.0  64.0     1.0                          1   \n",
       "6072395       6.0       7.0  64.0     1.0                          1   \n",
       "6072396       4.0       7.0  64.0     1.0                          1   \n",
       "6072397      60.0      63.0  64.0     1.0                          1   \n",
       "\n",
       "         club_member_status_LEFT CLUB  fashion_news_frequency_Monthly  \\\n",
       "0                                   0                               0   \n",
       "1                                   0                               0   \n",
       "2                                   0                               0   \n",
       "3                                   0                               0   \n",
       "4                                   0                               0   \n",
       "...                               ...                             ...   \n",
       "6072393                             0                               0   \n",
       "6072394                             0                               0   \n",
       "6072395                             0                               0   \n",
       "6072396                             0                               0   \n",
       "6072397                             0                               0   \n",
       "\n",
       "         fashion_news_frequency_Regularly  \n",
       "0                                       0  \n",
       "1                                       0  \n",
       "2                                       0  \n",
       "3                                       0  \n",
       "4                                       1  \n",
       "...                                   ...  \n",
       "6072393                                 1  \n",
       "6072394                                 1  \n",
       "6072395                                 1  \n",
       "6072396                                 1  \n",
       "6072397                                 1  \n",
       "\n",
       "[6072398 rows x 12 columns]"
      ]
     },
     "execution_count": 85,
     "metadata": {},
     "output_type": "execute_result"
    }
   ],
   "source": [
    "X"
   ]
  },
  {
   "cell_type": "code",
   "execution_count": 86,
   "metadata": {},
   "outputs": [],
   "source": [
    "X_train, X_test, y_train, y_test = train_test_split(X, y, test_size=0.15, shuffle=True, random_state=44)"
   ]
  },
  {
   "cell_type": "code",
   "execution_count": 87,
   "metadata": {},
   "outputs": [
    {
     "data": {
      "text/plain": [
       "0          0\n",
       "1          0\n",
       "2          0\n",
       "3          0\n",
       "4          0\n",
       "          ..\n",
       "6072393    1\n",
       "6072394    1\n",
       "6072395    1\n",
       "6072396    1\n",
       "6072397    0\n",
       "Name: CustomerBuyNext7days, Length: 6072398, dtype: int64"
      ]
     },
     "execution_count": 87,
     "metadata": {},
     "output_type": "execute_result"
    }
   ],
   "source": [
    "y"
   ]
  },
  {
   "cell_type": "code",
   "execution_count": 88,
   "metadata": {},
   "outputs": [],
   "source": [
    "X_train, X_val, y_train, y_val = train_test_split(X_train, y_train, test_size=0.1, shuffle=True, random_state=44)"
   ]
  },
  {
   "cell_type": "markdown",
   "metadata": {},
   "source": [
    "Its wise to keep a validation data set as well "
   ]
  },
  {
   "cell_type": "code",
   "execution_count": 89,
   "metadata": {},
   "outputs": [],
   "source": [
    "X_train, X_train_cust_id = X_train.drop('customer_id',axis=1), X_train.customer_id\n",
    "X_val, X_val_cust_id = X_val.drop('customer_id',axis=1), X_val.customer_id\n",
    "X_test, X_test_cust_id = X_test.drop('customer_id',axis=1), X_test.customer_id"
   ]
  },
  {
   "cell_type": "code",
   "execution_count": 90,
   "metadata": {},
   "outputs": [],
   "source": [
    "X_train_cust_id.to_csv(\"X_train_cust_id.csv\")\n",
    "X_val_cust_id.to_csv(\"X_val_cust_id.csv\")\n",
    "X_test_cust_id.to_csv(\"X_test_cust_id.csv\")"
   ]
  },
  {
   "cell_type": "code",
   "execution_count": null,
   "metadata": {},
   "outputs": [],
   "source": []
  },
  {
   "cell_type": "code",
   "execution_count": 91,
   "metadata": {},
   "outputs": [
    {
     "data": {
      "text/plain": [
       "(4645384, 11)"
      ]
     },
     "execution_count": 91,
     "metadata": {},
     "output_type": "execute_result"
    }
   ],
   "source": [
    "X_train.shape"
   ]
  },
  {
   "cell_type": "code",
   "execution_count": 92,
   "metadata": {},
   "outputs": [
    {
     "data": {
      "text/plain": [
       "(516154, 11)"
      ]
     },
     "execution_count": 92,
     "metadata": {},
     "output_type": "execute_result"
    }
   ],
   "source": [
    "X_val.shape"
   ]
  },
  {
   "cell_type": "code",
   "execution_count": 93,
   "metadata": {},
   "outputs": [
    {
     "data": {
      "text/plain": [
       "(910860, 11)"
      ]
     },
     "execution_count": 93,
     "metadata": {},
     "output_type": "execute_result"
    }
   ],
   "source": [
    "X_test.shape"
   ]
  },
  {
   "cell_type": "markdown",
   "metadata": {},
   "source": [
    "#### Apply Normalization on  Age, DayDiff2 and DayDiff3"
   ]
  },
  {
   "cell_type": "code",
   "execution_count": 94,
   "metadata": {},
   "outputs": [],
   "source": [
    "from sklearn.preprocessing import MinMaxScaler \n",
    "minmaxscaler_age = MinMaxScaler() \n",
    "minmaxscaler_age.fit(X_train[['age']]) \n",
    "X_train['age'] = minmaxscaler_age.transform(X_train[['age']])\n",
    "X_val['age'] = minmaxscaler_age.transform(X_val[['age']])\n",
    "X_test['age'] = minmaxscaler_age.transform(X_test[['age']])\n",
    "minmaxscaler_daydiff2 = MinMaxScaler() \n",
    "minmaxscaler_daydiff2.fit(X_train[['DayDiff2']]) \n",
    "X_train['DayDiff2'] = minmaxscaler_daydiff2.transform(X_train[['DayDiff2']])\n",
    "X_val['DayDiff2'] = minmaxscaler_daydiff2.transform(X_val[['DayDiff2']])\n",
    "X_test['DayDiff2'] = minmaxscaler_daydiff2.transform(X_test[['DayDiff2']])\n",
    "minmaxscaler_daydiff3 = MinMaxScaler() \n",
    "minmaxscaler_daydiff3.fit(X_train[['DayDiff3']]) \n",
    "X_train['DayDiff3'] = minmaxscaler_daydiff3.transform(X_train[['DayDiff3']])\n",
    "X_val['DayDiff3'] = minmaxscaler_daydiff3.transform(X_val[['DayDiff3']])\n",
    "X_test['DayDiff3'] = minmaxscaler_daydiff3.transform(X_test[['DayDiff3']])\n"
   ]
  },
  {
   "cell_type": "code",
   "execution_count": 95,
   "metadata": {},
   "outputs": [
    {
     "data": {
      "text/plain": [
       "count    4.645384e+06\n",
       "mean     2.496144e-01\n",
       "std      1.649588e-01\n",
       "min      0.000000e+00\n",
       "25%      1.084337e-01\n",
       "50%      1.927711e-01\n",
       "75%      3.975904e-01\n",
       "max      1.000000e+00\n",
       "Name: age, dtype: float64"
      ]
     },
     "execution_count": 95,
     "metadata": {},
     "output_type": "execute_result"
    }
   ],
   "source": [
    "X_train.age.describe()"
   ]
  },
  {
   "cell_type": "code",
   "execution_count": 96,
   "metadata": {},
   "outputs": [
    {
     "data": {
      "text/plain": [
       "count    4.645384e+06\n",
       "mean     1.035478e-01\n",
       "std      1.121158e-01\n",
       "min      0.000000e+00\n",
       "25%      2.912621e-02\n",
       "50%      6.657420e-02\n",
       "75%      1.373093e-01\n",
       "max      1.000000e+00\n",
       "Name: DayDiff2, dtype: float64"
      ]
     },
     "execution_count": 96,
     "metadata": {},
     "output_type": "execute_result"
    }
   ],
   "source": [
    "X_train.DayDiff2.describe()"
   ]
  },
  {
   "cell_type": "markdown",
   "metadata": {},
   "source": [
    "Check the distribution of dayDiff from training and test dataset"
   ]
  },
  {
   "cell_type": "code",
   "execution_count": null,
   "metadata": {},
   "outputs": [],
   "source": [
    "\n",
    "\n"
   ]
  },
  {
   "cell_type": "code",
   "execution_count": 97,
   "metadata": {},
   "outputs": [
    {
     "data": {
      "text/plain": [
       "(array([3325022.,       0.,       0.,       0.,       0.,       0.,\n",
       "              0.,       0.,       0., 1320362.]),\n",
       " array([0. , 0.1, 0.2, 0.3, 0.4, 0.5, 0.6, 0.7, 0.8, 0.9, 1. ]),\n",
       " <BarContainer object of 10 artists>)"
      ]
     },
     "execution_count": 97,
     "metadata": {},
     "output_type": "execute_result"
    },
    {
     "data": {
      "image/png": "[encoded data removed]",
      "text/plain": [
       "<Figure size 432x288 with 1 Axes>"
      ]
     },
     "metadata": {
      "needs_background": "light"
     },
     "output_type": "display_data"
    }
   ],
   "source": [
    "plt.hist(y_train)"
   ]
  },
  {
   "cell_type": "code",
   "execution_count": 98,
   "metadata": {},
   "outputs": [
    {
     "name": "stdout",
     "output_type": "stream",
     "text": [
      "Requirement already satisfied: xgboost in /usr/local/lib/python3.8/site-packages (1.6.0)\n",
      "Requirement already satisfied: scipy in /usr/local/lib/python3.8/site-packages (from xgboost) (1.7.0)\n",
      "Requirement already satisfied: numpy in /usr/local/lib/python3.8/site-packages (from xgboost) (1.19.5)\n",
      "\u001b[33mWARNING: Running pip as the 'root' user can result in broken permissions and conflicting behaviour with the system package manager. It is recommended to use a virtual environment instead: https://pip.pypa.io/warnings/venv\u001b[0m\n",
      "\u001b[33mWARNING: You are using pip version 21.3.1; however, version 22.0.4 is available.\n",
      "You should consider upgrading via the '/usr/local/bin/python3.8 -m pip install --upgrade pip' command.\u001b[0m\n"
     ]
    }
   ],
   "source": [
    "!pip install xgboost"
   ]
  },
  {
   "cell_type": "code",
   "execution_count": 99,
   "metadata": {},
   "outputs": [],
   "source": [
    "from sklearn.ensemble import RandomForestClassifier\n",
    "from sklearn.linear_model import LogisticRegression\n",
    "import xgboost as xgb"
   ]
  },
  {
   "cell_type": "markdown",
   "metadata": {},
   "source": [
    "#### Lets see which classification model gives good precision. I am choosing precision as this may be important metric to calcuate. Precision says that if my model is saying that this customer is likely to purchase in next 7 days then probability of that happening for that prediction is on higher side. So we are trying to minimize False Positives. Since these customers willbe target of marletting campaigns and eligible for offers which means there is investment being done by company on these customers so it is important that precision of prediction is good. So lets try to gauge our models\n",
    "### We are checking for LogisticRegression, RandomForestClassifier and XGBosst classifer"
   ]
  },
  {
   "cell_type": "code",
   "execution_count": 100,
   "metadata": {},
   "outputs": [],
   "source": [
    "models = []\n",
    "models.append((\"LR\",LogisticRegression()))\n",
    "#models.append((\"NB\",GaussianNB()))\n",
    "models.append((\"RF\",RandomForestClassifier()))\n",
    "#models.append((\"SVC\",SVC()))\n",
    "#models.append((\"Dtree\",DecisionTreeClassifier()))\n",
    "models.append((\"XGB\",xgb.XGBClassifier()))\n",
    "#models.append((\"KNN\",KNeighborsClassifier()))"
   ]
  },
  {
   "cell_type": "code",
   "execution_count": 101,
   "metadata": {},
   "outputs": [
    {
     "name": "stderr",
     "output_type": "stream",
     "text": [
      "/usr/local/lib/python3.8/site-packages/sklearn/linear_model/_logistic.py:763: ConvergenceWarning: lbfgs failed to converge (status=1):\n",
      "STOP: TOTAL NO. of ITERATIONS REACHED LIMIT.\n",
      "\n",
      "Increase the number of iterations (max_iter) or scale the data as shown in:\n",
      "    https://scikit-learn.org/stable/modules/preprocessing.html\n",
      "Please also refer to the documentation for alternative solver options:\n",
      "    https://scikit-learn.org/stable/modules/linear_model.html#logistic-regression\n",
      "  n_iter_i = _check_optimize_result(\n"
     ]
    },
    {
     "name": "stdout",
     "output_type": "stream",
     "text": [
      "LR [0.79655316 0.79940727]\n",
      "RF [0.66629882 0.66736483]\n",
      "XGB [0.83112282 0.84249518]\n"
     ]
    }
   ],
   "source": [
    "for name,model in models:\n",
    "    kfold = KFold(n_splits=2, random_state=22, shuffle=True)\n",
    "    cv_result = cross_val_score(model,X_train,y_train, cv = kfold,scoring = \"precision\")\n",
    "    print(name, cv_result)"
   ]
  },
  {
   "cell_type": "markdown",
   "metadata": {},
   "source": [
    "### XGBoost was the winner so we wil try to train the XGBoost classifier with default values and see the results"
   ]
  },
  {
   "cell_type": "code",
   "execution_count": 102,
   "metadata": {},
   "outputs": [
    {
     "name": "stdout",
     "output_type": "stream",
     "text": [
      "Accuracy of XGB classifier on training set: 0.82\n",
      "Accuracy of XGB classifier on test set: 0.82\n"
     ]
    }
   ],
   "source": [
    "xgb_model = xgb.XGBClassifier().fit(X_train, y_train)\n",
    "\n",
    "print('Accuracy of XGB classifier on training set: {:.2f}'\n",
    "       .format(xgb_model.score(X_train, y_train)))\n",
    "print('Accuracy of XGB classifier on test set: {:.2f}'\n",
    "       .format(xgb_model.score(X_test[X_train.columns], y_test)))"
   ]
  },
  {
   "cell_type": "code",
   "execution_count": 103,
   "metadata": {},
   "outputs": [],
   "source": [
    "y_pred = xgb_model.predict(X_test)"
   ]
  },
  {
   "cell_type": "code",
   "execution_count": 104,
   "metadata": {},
   "outputs": [],
   "source": [
    "from sklearn.metrics import classification_report,confusion_matrix\n"
   ]
  },
  {
   "cell_type": "code",
   "execution_count": 105,
   "metadata": {},
   "outputs": [
    {
     "name": "stdout",
     "output_type": "stream",
     "text": [
      "              precision    recall  f1-score   support\n",
      "\n",
      "           0       0.82      0.96      0.89    652582\n",
      "           1       0.84      0.47      0.60    258278\n",
      "\n",
      "    accuracy                           0.82    910860\n",
      "   macro avg       0.83      0.71      0.74    910860\n",
      "weighted avg       0.82      0.82      0.80    910860\n",
      "\n"
     ]
    }
   ],
   "source": [
    "print (classification_report(y_test, y_pred))"
   ]
  },
  {
   "cell_type": "markdown",
   "metadata": {},
   "source": [
    "### Lets do some Hyperparameters tuning for our XgBosst model. We will try to iterate in max_depth and min_child_weight hyperparameter and select best options and then train the model with these hyperparameters"
   ]
  },
  {
   "cell_type": "code",
   "execution_count": 106,
   "metadata": {},
   "outputs": [
    {
     "data": {
      "text/plain": [
       "({'max_depth': 3, 'min_child_weight': 2}, 0.8348849150683391)"
      ]
     },
     "execution_count": 106,
     "metadata": {},
     "output_type": "execute_result"
    }
   ],
   "source": [
    "from sklearn.model_selection import GridSearchCV\n",
    "\n",
    "param_test1 = {\n",
    " 'max_depth':range(3,10,15),\n",
    " 'min_child_weight':range(1,6)\n",
    "}\n",
    "gsearch1 = GridSearchCV(estimator = xgb.XGBClassifier(), \n",
    "param_grid = param_test1, scoring='precision',n_jobs=-1, cv=2)\n",
    "gsearch1.fit(X_train,y_train)\n",
    "gsearch1.best_params_, gsearch1.best_score_"
   ]
  },
  {
   "cell_type": "code",
   "execution_count": 107,
   "metadata": {},
   "outputs": [
    {
     "name": "stdout",
     "output_type": "stream",
     "text": [
      "Accuracy of XGB classifier on training set: 0.82\n",
      "Accuracy of XGB classifier on test set: 0.82\n"
     ]
    }
   ],
   "source": [
    "xgb_model = xgb.XGBClassifier(max_depth=3,min_child_weight=3).fit(X_train, y_train)\n",
    "\n",
    "print('Accuracy of XGB classifier on training set: {:.2f}'\n",
    "       .format(xgb_model.score(X_train, y_train)))\n",
    "print('Accuracy of XGB classifier on test set: {:.2f}'\n",
    "       .format(xgb_model.score(X_test[X_train.columns], y_test)))\n",
    "\n"
   ]
  },
  {
   "cell_type": "code",
   "execution_count": 108,
   "metadata": {},
   "outputs": [],
   "source": [
    "y_pred = xgb_model.predict(X_test)"
   ]
  },
  {
   "cell_type": "code",
   "execution_count": 109,
   "metadata": {},
   "outputs": [
    {
     "name": "stdout",
     "output_type": "stream",
     "text": [
      "              precision    recall  f1-score   support\n",
      "\n",
      "           0       0.82      0.96      0.89    652582\n",
      "           1       0.84      0.47      0.60    258278\n",
      "\n",
      "    accuracy                           0.82    910860\n",
      "   macro avg       0.83      0.71      0.74    910860\n",
      "weighted avg       0.82      0.82      0.80    910860\n",
      "\n"
     ]
    }
   ],
   "source": [
    "print(classification_report(y_test, y_pred))"
   ]
  },
  {
   "cell_type": "markdown",
   "metadata": {},
   "source": [
    "## Lets also try to train a Neural Network model and see how it performs. For this we can use tensor flow with Keras"
   ]
  },
  {
   "cell_type": "code",
   "execution_count": 110,
   "metadata": {},
   "outputs": [],
   "source": [
    "\n",
    "import tensorflow as tf\n",
    "from tensorflow.keras.models import Sequential\n",
    "from tensorflow.keras.layers import Dense,Dropout"
   ]
  },
  {
   "cell_type": "code",
   "execution_count": 111,
   "metadata": {},
   "outputs": [],
   "source": [
    "## CODE HERE\n",
    "model = Sequential()\n",
    "\n",
    "# Remember to compile()\n",
    "model.add(Dense(11,activation='relu'))\n",
    "#model.add(Dropout(0.2))  // since model shows no signs of overfit I decided to not use the droput\n",
    "\n",
    "model.add(Dense(5,activation='relu'))\n",
    "#model.add(Dropout(0.2))\n",
    "\n",
    "model.add(Dense(5,activation='relu'))\n",
    "#model.add(Dropout(0.2))\n",
    "\n",
    "model.add(Dense(units=1,activation='sigmoid'))\n",
    "model.compile(loss='binary_crossentropy',optimizer='adam')\n"
   ]
  },
  {
   "cell_type": "code",
   "execution_count": 112,
   "metadata": {},
   "outputs": [
    {
     "name": "stdout",
     "output_type": "stream",
     "text": [
      "Epoch 1/25\n",
      "Extension horovod.torch has not been built: /usr/local/lib/python3.8/site-packages/horovod/torch/mpi_lib/_mpi_lib.cpython-38-x86_64-linux-gnu.so not found\n",
      "If this is not expected, reinstall Horovod with HOROVOD_WITH_PYTORCH=1 to debug the build error.\n",
      "Warning! MPI libs are missing, but python applications are still avaiable.\n",
      "[2022-04-17 04:21:38.215 tensorflow-2-6-cpu-p-ml-m5-4xlarge-0ff1e2c27204253a5437e9d6f1d4:185 INFO utils.py:27] RULE_JOB_STOP_SIGNAL_FILENAME: None\n",
      "[2022-04-17 04:21:38.267 tensorflow-2-6-cpu-p-ml-m5-4xlarge-0ff1e2c27204253a5437e9d6f1d4:185 INFO profiler_config_parser.py:111] Unable to find config at /opt/ml/input/config/profilerconfig.json. Profiler is disabled.\n",
      "18147/18147 [==============================] - 45s 2ms/step - loss: 0.4341 - val_loss: 0.4159\n",
      "Epoch 2/25\n",
      "18147/18147 [==============================] - 44s 2ms/step - loss: 0.4165 - val_loss: 0.4231\n",
      "Epoch 3/25\n",
      "18147/18147 [==============================] - 45s 2ms/step - loss: 0.4157 - val_loss: 0.4151\n",
      "Epoch 4/25\n",
      "18147/18147 [==============================] - 45s 2ms/step - loss: 0.4151 - val_loss: 0.4141\n",
      "Epoch 5/25\n",
      "18147/18147 [==============================] - 44s 2ms/step - loss: 0.4146 - val_loss: 0.4134\n",
      "Epoch 6/25\n",
      "18147/18147 [==============================] - 42s 2ms/step - loss: 0.4144 - val_loss: 0.4149\n",
      "Epoch 7/25\n",
      "18147/18147 [==============================] - 44s 2ms/step - loss: 0.4143 - val_loss: 0.4138\n",
      "Epoch 8/25\n",
      "18147/18147 [==============================] - 44s 2ms/step - loss: 0.4142 - val_loss: 0.4130\n",
      "Epoch 9/25\n",
      "18147/18147 [==============================] - 43s 2ms/step - loss: 0.4140 - val_loss: 0.4132\n",
      "Epoch 10/25\n",
      "18147/18147 [==============================] - 44s 2ms/step - loss: 0.4139 - val_loss: 0.4130\n",
      "Epoch 11/25\n",
      "18147/18147 [==============================] - 44s 2ms/step - loss: 0.4138 - val_loss: 0.4130\n",
      "Epoch 12/25\n",
      "18147/18147 [==============================] - 44s 2ms/step - loss: 0.4138 - val_loss: 0.4134\n",
      "Epoch 13/25\n",
      "18147/18147 [==============================] - 44s 2ms/step - loss: 0.4138 - val_loss: 0.4141\n",
      "Epoch 14/25\n",
      "18147/18147 [==============================] - 44s 2ms/step - loss: 0.4137 - val_loss: 0.4149\n",
      "Epoch 15/25\n",
      "18147/18147 [==============================] - 44s 2ms/step - loss: 0.4137 - val_loss: 0.4128\n",
      "Epoch 16/25\n",
      "18147/18147 [==============================] - 44s 2ms/step - loss: 0.4137 - val_loss: 0.4143\n",
      "Epoch 17/25\n",
      "18147/18147 [==============================] - 44s 2ms/step - loss: 0.4137 - val_loss: 0.4127\n",
      "Epoch 18/25\n",
      "18147/18147 [==============================] - 44s 2ms/step - loss: 0.4136 - val_loss: 0.4139\n",
      "Epoch 19/25\n",
      "18147/18147 [==============================] - 44s 2ms/step - loss: 0.4135 - val_loss: 0.4139\n",
      "Epoch 20/25\n",
      "18147/18147 [==============================] - 44s 2ms/step - loss: 0.4135 - val_loss: 0.4142\n",
      "Epoch 21/25\n",
      "18147/18147 [==============================] - 44s 2ms/step - loss: 0.4135 - val_loss: 0.4132\n",
      "Epoch 22/25\n",
      "18147/18147 [==============================] - 44s 2ms/step - loss: 0.4135 - val_loss: 0.4129\n",
      "Epoch 23/25\n",
      "18147/18147 [==============================] - 44s 2ms/step - loss: 0.4135 - val_loss: 0.4130\n",
      "Epoch 24/25\n",
      "18147/18147 [==============================] - 44s 2ms/step - loss: 0.4135 - val_loss: 0.4132\n",
      "Epoch 25/25\n",
      "18147/18147 [==============================] - 44s 2ms/step - loss: 0.4135 - val_loss: 0.4130\n"
     ]
    },
    {
     "data": {
      "text/plain": [
       "<keras.callbacks.History at 0x7f9bf28285e0>"
      ]
     },
     "execution_count": 112,
     "metadata": {},
     "output_type": "execute_result"
    }
   ],
   "source": [
    "model.fit(x=X_train,y=y_train,epochs=25,batch_size=256, \n",
    "          validation_data=(X_val,y_val))"
   ]
  },
  {
   "cell_type": "markdown",
   "metadata": {},
   "source": [
    "#### Lets visualize the training and validation loss."
   ]
  },
  {
   "cell_type": "code",
   "execution_count": 113,
   "metadata": {},
   "outputs": [
    {
     "data": {
      "text/plain": [
       "<AxesSubplot:>"
      ]
     },
     "execution_count": 113,
     "metadata": {},
     "output_type": "execute_result"
    },
    {
     "data": {
      "image/png": "[encoded data removed]",
      "text/plain": [
       "<Figure size 432x288 with 1 Axes>"
      ]
     },
     "metadata": {
      "needs_background": "light"
     },
     "output_type": "display_data"
    }
   ],
   "source": [
    "model_loss = pd.DataFrame(model.history.history)\n",
    "model_loss.plot()"
   ]
  },
  {
   "cell_type": "markdown",
   "metadata": {},
   "source": [
    "#### We can see that model shows no sign of Overfitting and it performed well on training loss as well. We can later further tune this with multple Hyper paremetrs experimentation"
   ]
  },
  {
   "cell_type": "markdown",
   "metadata": {},
   "source": [
    "#### Lets predict the result with hold out test set"
   ]
  },
  {
   "cell_type": "code",
   "execution_count": 114,
   "metadata": {},
   "outputs": [],
   "source": [
    "predictions = model.predict(X_test)"
   ]
  },
  {
   "cell_type": "markdown",
   "metadata": {},
   "source": [
    "#### convert predictions to binary with threshold as 0.5"
   ]
  },
  {
   "cell_type": "code",
   "execution_count": 115,
   "metadata": {},
   "outputs": [],
   "source": [
    "pred_com=predictions.copy()\n"
   ]
  },
  {
   "cell_type": "code",
   "execution_count": 116,
   "metadata": {},
   "outputs": [],
   "source": [
    "def mapbinary(i):\n",
    "    if i>=0.5:\n",
    "        return 1\n",
    "    return 0\n",
    "    "
   ]
  },
  {
   "cell_type": "code",
   "execution_count": 117,
   "metadata": {},
   "outputs": [],
   "source": [
    "import numpy as np\n",
    "applyall = np.vectorize(mapbinary)"
   ]
  },
  {
   "cell_type": "code",
   "execution_count": 118,
   "metadata": {},
   "outputs": [],
   "source": [
    "pred_mod=applyall(pred_com)"
   ]
  },
  {
   "cell_type": "code",
   "execution_count": 119,
   "metadata": {},
   "outputs": [
    {
     "name": "stdout",
     "output_type": "stream",
     "text": [
      "              precision    recall  f1-score   support\n",
      "\n",
      "           0       0.81      0.97      0.89    652582\n",
      "           1       0.86      0.44      0.58    258278\n",
      "\n",
      "    accuracy                           0.82    910860\n",
      "   macro avg       0.84      0.71      0.74    910860\n",
      "weighted avg       0.83      0.82      0.80    910860\n",
      "\n"
     ]
    }
   ],
   "source": [
    "print(classification_report(y_test,pred_mod))"
   ]
  },
  {
   "cell_type": "code",
   "execution_count": 129,
   "metadata": {},
   "outputs": [
    {
     "name": "stdout",
     "output_type": "stream",
     "text": [
      "Index(['index', 'Unnamed: 0', 'customer_id', 'BuyNext7Days'], dtype='object')\n"
     ]
    },
    {
     "data": {
      "text/html": [
       "<div>\n",
       "<style scoped>\n",
       "    .dataframe tbody tr th:only-of-type {\n",
       "        vertical-align: middle;\n",
       "    }\n",
       "\n",
       "    .dataframe tbody tr th {\n",
       "        vertical-align: top;\n",
       "    }\n",
       "\n",
       "    .dataframe thead th {\n",
       "        text-align: right;\n",
       "    }\n",
       "</style>\n",
       "<table border=\"1\" class=\"dataframe\">\n",
       "  <thead>\n",
       "    <tr style=\"text-align: right;\">\n",
       "      <th></th>\n",
       "      <th>index</th>\n",
       "      <th>customer_id</th>\n",
       "      <th>BuyNext7Days</th>\n",
       "    </tr>\n",
       "  </thead>\n",
       "  <tbody>\n",
       "    <tr>\n",
       "      <th>4</th>\n",
       "      <td>4</td>\n",
       "      <td>115966</td>\n",
       "      <td>1</td>\n",
       "    </tr>\n",
       "    <tr>\n",
       "      <th>23</th>\n",
       "      <td>23</td>\n",
       "      <td>287273</td>\n",
       "      <td>1</td>\n",
       "    </tr>\n",
       "    <tr>\n",
       "      <th>24</th>\n",
       "      <td>24</td>\n",
       "      <td>70661</td>\n",
       "      <td>1</td>\n",
       "    </tr>\n",
       "    <tr>\n",
       "      <th>30</th>\n",
       "      <td>30</td>\n",
       "      <td>16953</td>\n",
       "      <td>1</td>\n",
       "    </tr>\n",
       "    <tr>\n",
       "      <th>31</th>\n",
       "      <td>31</td>\n",
       "      <td>200489</td>\n",
       "      <td>1</td>\n",
       "    </tr>\n",
       "    <tr>\n",
       "      <th>...</th>\n",
       "      <td>...</td>\n",
       "      <td>...</td>\n",
       "      <td>...</td>\n",
       "    </tr>\n",
       "    <tr>\n",
       "      <th>910808</th>\n",
       "      <td>910808</td>\n",
       "      <td>127689</td>\n",
       "      <td>1</td>\n",
       "    </tr>\n",
       "    <tr>\n",
       "      <th>910809</th>\n",
       "      <td>910809</td>\n",
       "      <td>106277</td>\n",
       "      <td>1</td>\n",
       "    </tr>\n",
       "    <tr>\n",
       "      <th>910817</th>\n",
       "      <td>910817</td>\n",
       "      <td>556917</td>\n",
       "      <td>1</td>\n",
       "    </tr>\n",
       "    <tr>\n",
       "      <th>910841</th>\n",
       "      <td>910841</td>\n",
       "      <td>45273</td>\n",
       "      <td>1</td>\n",
       "    </tr>\n",
       "    <tr>\n",
       "      <th>910842</th>\n",
       "      <td>910842</td>\n",
       "      <td>50611</td>\n",
       "      <td>1</td>\n",
       "    </tr>\n",
       "  </tbody>\n",
       "</table>\n",
       "<p>131911 rows × 3 columns</p>\n",
       "</div>"
      ],
      "text/plain": [
       "         index  customer_id  BuyNext7Days\n",
       "4            4       115966             1\n",
       "23          23       287273             1\n",
       "24          24        70661             1\n",
       "30          30        16953             1\n",
       "31          31       200489             1\n",
       "...        ...          ...           ...\n",
       "910808  910808       127689             1\n",
       "910809  910809       106277             1\n",
       "910817  910817       556917             1\n",
       "910841  910841        45273             1\n",
       "910842  910842        50611             1\n",
       "\n",
       "[131911 rows x 3 columns]"
      ]
     },
     "execution_count": 129,
     "metadata": {},
     "output_type": "execute_result"
    }
   ],
   "source": [
    "cust_id_test=pd.read_csv(\"X_test_cust_id.csv\")\n",
    "# lets club customr id with the result and find which customer id recommendations to be done\n",
    "cust_in_rec=cust_id_test.join(pd.DataFrame(data=pred_mod,columns =[\"BuyNext7Days\"])).reset_index()\n",
    "print(cust_in_rec.columns)\n",
    "#cust_in_rec.rename(columns = {'0':'BuyNext7Days'}, inplace = True)\n",
    "\n",
    "cust_in_rec=cust_in_rec.drop(\"Unnamed: 0\",axis=1).query(\"BuyNext7Days==1\")\n",
    "cust_in_rec"
   ]
  },
  {
   "cell_type": "markdown",
   "metadata": {},
   "source": [
    "#### Looks like we also get good results from neural network model"
   ]
  },
  {
   "cell_type": "code",
   "execution_count": 132,
   "metadata": {},
   "outputs": [],
   "source": [
    "cust_in_rec.to_csv(\"input_customers_rec.csv\")"
   ]
  },
  {
   "cell_type": "markdown",
   "metadata": {},
   "source": [
    "### What we did\n",
    "- We used the transaction data to calculate the RFM score for each customer\n",
    "- We created new features from the days customer took to make current and Previous 2 transaction or purchases\n",
    "- We Used the customer data to get customer attributes\n",
    "- The days customer took to make the current transaction becomes our label for the dataset\n",
    "- We used this data to split in training, validation and test dataset\n",
    "- We calculated the precision of the predictions made by different modes\n",
    "- We then used one of the model to calulate the prediction whether customer will purchase in next 7 days\n",
    "- We will save these customer IDs for future use"
   ]
  },
  {
   "cell_type": "markdown",
   "metadata": {},
   "source": [
    "### For next step move to this __[notebook](https://github.com/vivekghi/customer-purchase-prediction-and-recommendation/blob/main/2-Customer-Product-sparse-data-prep-with-attributes.ipynb)__"
   ]
  },
  {
   "cell_type": "code",
   "execution_count": null,
   "metadata": {},
   "outputs": [],
   "source": []
  }
 ],
 "metadata": {
  "kernelspec": {
   "display_name": "Python 3 (TensorFlow 2.6 Python 3.8 CPU Optimized)",
   "language": "python",
   "name": "python3__SAGEMAKER_INTERNAL__arn:aws:sagemaker:ap-south-1:394103062818:image/tensorflow-2.6-cpu-py38-ubuntu20.04-v1"
  },
  "language_info": {
   "codemirror_mode": {
    "name": "ipython",
    "version": 3
   },
   "file_extension": ".py",
   "mimetype": "text/x-python",
   "name": "python",
   "nbconvert_exporter": "python",
   "pygments_lexer": "ipython3",
   "version": "3.8.2"
  }
 },
 "nbformat": 4,
 "nbformat_minor": 4
}
